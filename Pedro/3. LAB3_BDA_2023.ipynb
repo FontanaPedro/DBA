{
 "cells": [
  {
   "cell_type": "code",
   "execution_count": 1,
   "metadata": {},
   "outputs": [
    {
     "name": "stderr",
     "output_type": "stream",
     "text": [
      "/opt/anaconda3/lib/python3.9/site-packages/scipy/__init__.py:146: UserWarning: A NumPy version >=1.16.5 and <1.23.0 is required for this version of SciPy (detected version 1.23.4\n",
      "  warnings.warn(f\"A NumPy version >={np_minversion} and <{np_maxversion}\"\n"
     ]
    }
   ],
   "source": [
    "import numpy as np\n",
    "import pandas as pd\n",
    "from sklearn.model_selection import train_test_split\n",
    "from sklearn.linear_model import LinearRegression\n",
    "from sklearn.linear_model import Ridge\n",
    "from sklearn.tree import DecisionTreeRegressor\n",
    "from sklearn.tree import DecisionTreeClassifier\n",
    "from sklearn.ensemble import RandomForestRegressor\n",
    "from sklearn.linear_model import LogisticRegression\n",
    "from matplotlib import pyplot as plt\n",
    "from sklearn import tree\n",
    "\n",
    "\n",
    "\n"
   ]
  },
  {
   "cell_type": "markdown",
   "metadata": {},
   "source": [
    "# Regression"
   ]
  },
  {
   "cell_type": "markdown",
   "metadata": {},
   "source": [
    "<h1>Question 1</h1>\n",
    "Write a function, <i>coeffReport</i> that takes a linear model as its argument, and prints a \"coefficient report\", as we did in the previous lab. That is, print the feature names and coefficients with the 3 highest values, the 3 lowest values, and the 3 values closest to zero. Below is the beginning of the function definition -- you should complete this.\n"
   ]
  },
  {
   "cell_type": "code",
   "execution_count": 2,
   "metadata": {},
   "outputs": [],
   "source": [
    "def coeffReport(linearModel, featureNames):\n",
    "\n",
    "    coefs=linearModel.coef_ \n",
    "\n",
    "    sorted_coef=list(zip(list(featureNames),coefs))\n",
    "    # I create a variable that list the zipped 2 list of the features with its respective coeficients \n",
    "\n",
    "    sorted_coef_value=sorted(list(zip(list(featureNames,coef[0]))), key=lambda x:x[1],reverse=True)\n",
    "    \n",
    "    sorted_coef_abs=sorted(list(zip(list(featureNames,coefs))), key=lambda x:abs(x[1])) \n",
    "\n",
    "    #Option 2:\n",
    "    #coefsAbs = list(map(abs,coefs))\n",
    "    #sorted_coefs = sorted ((zip(featureNames, coefsAbs)),\n",
    "    #           key = lambda e:e[1], reverse=True )\n",
    "\n",
    "    #The different between the 2 option above is that in the one i am applying i am sorting the abs values by their abs value but i am not changing\n",
    "    #the list. So, in my inform i will still get as an ouput the abs value with their possitive or negative sign.\n",
    "\n",
    "    most_informative_coef=sorted_coef_value[:3]\n",
    "    least_informative_coef=sorted_coef_value[-3:]\n",
    "    abs_informative_coef=sorted_coef_abs[:3]\n",
    "\n",
    "    print(\"\\nLowest Coefficients \")\n",
    "    print(least_informative_coef)\n",
    "\n",
    "    print(\"\\nHighest Coefficients \")\n",
    "    print(most_informative_coef)\n",
    "\n",
    "    print(\"\\nCoefficients Closest to Zero \")   #the closest to cero are least informative because the variable logically is multiplies by 0 \n",
    "    print(abs_informative_coef)\n",
    "\n",
    "\n",
    "\n",
    "\n",
    "\n"
   ]
  },
  {
   "cell_type": "code",
   "execution_count": 3,
   "metadata": {},
   "outputs": [],
   "source": [
    "def coeffReport1(linearModel, featureNames):\n",
    "\n",
    "    coefs=linearModel.coef_ \n",
    "\n",
    "    \"\"\" The function is taking the coefficient of each feauture, therefore, understanding how important each feature is for the model\n",
    "    and then printing the highst, lowest and the closest to zero\"\"\"\n",
    "\n",
    "    sorted_coef=list(zip(list(featureNames),coefs)) #I didnt use it afterwards\n",
    "    \n",
    "    # I create a variable that list the zipped 2 list of the features with its respective coeficients \n",
    "    # I use list(feautreNames) in order to create a list of the feature name\n",
    "    # I use Reverse=True so it sorted from the from smallest to highest\n",
    "\n",
    "    sorted_coef_value=sorted(list(zip(list(featureNames),coefs)), key=lambda x:x[1], reverse=True)\n",
    "    \n",
    "    sorted_coef_abs=sorted(list(zip(list(featureNames),coefs)), key=lambda x:abs(x[1]), reverse=True )\n",
    "\n",
    "\n",
    "    # Like this I am just going to the last 3 coefs and printing them like a list\n",
    "    print(\"\\nLowest Coefficients \")\n",
    "    for i in sorted_coef_value[-3:]:\n",
    "\n",
    "        print(i)\n",
    "\n",
    "\n",
    "    # Like this I am just going to the first 3 coefs and printing them like a list\n",
    "\n",
    "    print(\"\\nHighst Coefficients \")\n",
    "    for i in sorted_coef_value[:3]:\n",
    "\n",
    "        print(i)\n",
    "\n",
    "\n",
    "    # Like this I am just going to the last 3 coefs and printing them like a list\n",
    "\n",
    "    print(\"\\nCoefficients Closest to Zero \")\n",
    "    for i in sorted_coef_abs[-3:]:\n",
    "\n",
    "        print(i)\n",
    "\n",
    "    \n"
   ]
  },
  {
   "cell_type": "code",
   "execution_count": 4,
   "metadata": {},
   "outputs": [],
   "source": [
    "from sklearn.datasets import fetch_california_housing\n",
    "\n",
    "## the code below about ssl is because of a possible error in data access\n",
    "## if you get the error you should uncomment it\n",
    "#import ssl\n",
    "\n",
    "#try:\n",
    "#    _create_unverified_https_context = ssl._create_unverified_context\n",
    "#except AttributeError:\n",
    "#    pass\n",
    "#else:\n",
    "#    ssl._create_default_https_context = _create_unverified_https_context\n",
    "\n",
    "\n",
    "\n",
    "housing = fetch_california_housing()\n"
   ]
  },
  {
   "cell_type": "markdown",
   "metadata": {},
   "source": [
    "<h1>Question 2</h1>\n",
    "Construct a LinearRegression model for the housing data. Report on the train and test score. Use the <i>coeffReport</i> function to report on the feature coefficients."
   ]
  },
  {
   "cell_type": "code",
   "execution_count": 9,
   "metadata": {},
   "outputs": [
    {
     "name": "stdout",
     "output_type": "stream",
     "text": [
      "HERE I AM CHECKING THE INFO THAT IS INSIDE THE DATASET   \n",
      "\n",
      "\n",
      "Housing.keys():\n",
      " dict_keys(['data', 'target', 'frame', 'target_names', 'feature_names', 'DESCR'])\n",
      "\n",
      "Shape of Housing dataset (20640, 8)\n"
     ]
    }
   ],
   "source": [
    "print(\"HERE I AM CHECKING THE INFO THAT IS INSIDE THE DATASET   \\n\\n\")\n",
    "\n",
    "print(\"Housing.keys():\\n\", housing.keys())\n",
    "print(\"\\nShape of Housing dataset\", housing.data.shape)\n",
    "\n",
    "#The keys will show the different type of information of the DataSet --> housing.keys()\n",
    "#For the shape you always print \"name of the dataset\".data because is where sklearn save the actual information of the DataSet"
   ]
  },
  {
   "cell_type": "code",
   "execution_count": 10,
   "metadata": {},
   "outputs": [
    {
     "name": "stdout",
     "output_type": "stream",
     "text": [
      "Accuracy of the Linear Regression, on the training set: 0.611\n",
      "Accuracy of the Linear Regression, on the test set: 0.591\n",
      "\n",
      "Lowest Coefficients \n",
      "('AveRooms', -0.10331117273737225)\n",
      "('Latitude', -0.41735328390925386)\n",
      "('Longitude', -0.43061446208860105)\n",
      "\n",
      "Highst Coefficients \n",
      "('AveBedrms', 0.6167301519277008)\n",
      "('MedInc', 0.4390910418774257)\n",
      "('HouseAge', 0.009598646648347135)\n",
      "\n",
      "Coefficients Closest to Zero \n",
      "('HouseAge', 0.009598646648347135)\n",
      "('AveOccup', -0.00448838256416237)\n",
      "('Population', -7.632751973627935e-06)\n"
     ]
    }
   ],
   "source": [
    "#Stratify is making sure that the split is than 75%/25% by label as well and specifying the label column\n",
    "\n",
    "\n",
    "X_train, X_test, y_train, y_test = train_test_split(housing.data , housing.target, random_state=0)\n",
    "\n",
    "Linear_reg= LinearRegression().fit(X_train, y_train)\n",
    "\n",
    "print(\"Accuracy of the Linear Regression, on the training set: {:.3f}\".format(Linear_reg.score(X_train, y_train)))\n",
    "print(\"Accuracy of the Linear Regression, on the test set: {:.3f}\".format(Linear_reg.score(X_test, y_test)))\n",
    "\n",
    "#The score will represent the sum of squared differences divided by the amount of sample for both training & test set, \n",
    "\n",
    "\n",
    "coeffReport1(Linear_reg,housing.feature_names)"
   ]
  },
  {
   "attachments": {},
   "cell_type": "markdown",
   "metadata": {},
   "source": [
    "# Results\n",
    "\n",
    "The lowest and the highiest coeff inform you the direction of the classes, and are the most informative for the model.\n",
    "\n",
    "The closest to zero are those that are less informative. \n",
    "\n",
    "The closest the coeff are to zero the simpler the model is. --> Risk for underfitting\n",
    "\n",
    "The highiest the coeff are, the more complex the model is. --> Risk for overfitting"
   ]
  },
  {
   "cell_type": "markdown",
   "metadata": {},
   "source": [
    "<h1>Question 3</h1>\n",
    "Construct a Ridge model for this data. Report on the train and test score, and use the <i>coeffReport</i> function to report on the feature coefficients."
   ]
  },
  {
   "cell_type": "code",
   "execution_count": 11,
   "metadata": {},
   "outputs": [
    {
     "name": "stdout",
     "output_type": "stream",
     "text": [
      "Accuracy of the Ridge model, on the training set: 0.611\n",
      "Accuracy of the Ridge model, on the test set: 0.591\n",
      "\n",
      "Lowest Coefficients \n",
      "('AveRooms', -0.10331117273737225)\n",
      "('Latitude', -0.41735328390925386)\n",
      "('Longitude', -0.43061446208860105)\n",
      "\n",
      "Highst Coefficients \n",
      "('AveBedrms', 0.6167301519277008)\n",
      "('MedInc', 0.4390910418774257)\n",
      "('HouseAge', 0.009598646648347135)\n",
      "\n",
      "Coefficients Closest to Zero \n",
      "('HouseAge', 0.009598646648347135)\n",
      "('AveOccup', -0.00448838256416237)\n",
      "('Population', -7.632751973627935e-06)\n"
     ]
    }
   ],
   "source": [
    "\n",
    "ridge= Ridge().fit(X_train, y_train)\n",
    "\n",
    "print(\"Accuracy of the Ridge model, on the training set: {:.3f}\".format(Linear_reg.score(X_train, y_train)))\n",
    "print(\"Accuracy of the Ridge model, on the test set: {:.3f}\".format(Linear_reg.score(X_test, y_test)))\n",
    "\n",
    "\n",
    "coeffReport1(Linear_reg, housing.feature_names )\n",
    "\n"
   ]
  },
  {
   "cell_type": "markdown",
   "metadata": {},
   "source": [
    "<h1>Question 4</h1>\n",
    "Create a loop to test many different values for the <i>alpha</i> parameter for the Ridge model. Create a list of results, with the test score, train score, and alpha value. Print the list, sorted by test score.\n"
   ]
  },
  {
   "cell_type": "code",
   "execution_count": 12,
   "metadata": {},
   "outputs": [
    {
     "name": "stdout",
     "output_type": "stream",
     "text": [
      "Ridge regression: effect of alpha regularization parameter\n",
      "\n",
      "Alpha = 0.00\n",
      "Coeff: 2.02, R-squared training: 0.61, R-squared test: 0.59\n",
      "\n",
      "Alpha = 1.00\n",
      "Coeff: 2.02, R-squared training: 0.61, R-squared test: 0.59\n",
      "\n",
      "Alpha = 10.00\n",
      "Coeff: 2.00, R-squared training: 0.61, R-squared test: 0.59\n",
      "\n",
      "Alpha = 20.00\n",
      "Coeff: 1.99, R-squared training: 0.61, R-squared test: 0.59\n",
      "\n",
      "Alpha = 50.00\n",
      "Coeff: 1.94, R-squared training: 0.61, R-squared test: 0.59\n",
      "\n",
      "Alpha = 100.00\n",
      "Coeff: 1.88, R-squared training: 0.61, R-squared test: 0.59\n",
      "\n",
      "Alpha = 10000.00\n",
      "Coeff: 0.69, R-squared training: 0.55, R-squared test: 0.53\n",
      "\n"
     ]
    }
   ],
   "source": [
    "#Without list\n",
    "\n",
    "print(\"Ridge regression: effect of alpha regularization parameter\\n\")\n",
    "\n",
    "for this_alpha in [0,1,10,20,50,100,10000]:\n",
    "\t\tlinridge = Ridge(alpha = this_alpha, random_state=42).fit(X_train,y_train) #optionally fit(X_train_scaled) if the data is scaled\n",
    "\t\tr2_train=linridge.score(X_train, y_train)\n",
    "\t\tr2_test=linridge.score(X_test, y_test)\n",
    "\t\tcoeff_num= np.sum(abs(linridge.coef_)) #sum all the coefficients to see if the alpha push it to zero, therefore, simplier model. \n",
    "\t\t\n",
    "\t\tprint(\"Alpha = {:.2f}\\nCoeff: {:.2f}, R-squared training: {:.2f}, R-squared test: {:.2f}\\n\".format(this_alpha,coeff_num,r2_train,r2_test))\n",
    "\n",
    "\n",
    "#When alpha is 0 it has the same value "
   ]
  },
  {
   "cell_type": "code",
   "execution_count": 18,
   "metadata": {},
   "outputs": [
    {
     "name": "stdout",
     "output_type": "stream",
     "text": [
      "     Test     Train   Alpha    \n",
      "   0.5912    0.6110      0.00\n",
      "   0.5912    0.6110      0.01\n",
      "   0.5912    0.6110      0.10\n",
      "   0.5912    0.6110      0.30\n",
      "   0.5912    0.6110      1.00\n",
      "   0.5902    0.6107    100.00\n",
      "   0.5891    0.6100    200.00\n",
      "   0.5881    0.6093    300.00\n",
      "   0.5814    0.6039   1000.00\n",
      "   0.5663    0.5897   3000.00\n"
     ]
    }
   ],
   "source": [
    "#Option 2 with list\n",
    "\n",
    "resList = []\n",
    "for alpha in [0.001,0.01, 0.1, 0.3, 1, 100, 200, 300, 1000, 3000]:\n",
    "    clf = Ridge(alpha=alpha, random_state=0).fit(X_train, y_train)\n",
    "\n",
    "    res = (clf.score(X_test, y_test), clf.score(X_train, y_train), alpha)\n",
    "    resList.append(res)\n",
    "   \n",
    "resListSrt = sorted (resList,\n",
    "                key = lambda e:e[0], reverse=True)\n",
    "\n",
    "print(\"     Test    \", \"Train  \", \"Alpha    \")\n",
    "for r in resListSrt:\n",
    "    print(\"{:9.4f} {:9.4f} {:9.2f}\".format (r[0],r[1],r[2]))  #r is the iteration variable that results from the resListSrt()\n",
    " "
   ]
  },
  {
   "attachments": {},
   "cell_type": "markdown",
   "metadata": {},
   "source": [
    "# Reflexion on the result\n",
    "\n",
    "- when alpha is 0 it has the same result the ordinary least-square regression model since there is no L2 penalty value. \n",
    "- The biggest the alpha the simplier the model is, therefore, the more underfit the model will be (not performing well at generalizing)\n",
    "\n",
    "- There is not significant change on the squared (score) value when alpha changes. This can be due two different things:\n",
    "    1. The amount of training data is relatively bigger than the amount of features in the model, therefore, regularization becomes less important as the amount of training data increases\n",
    "    2. The scale of the different features is too different and it needs normalization. "
   ]
  },
  {
   "cell_type": "markdown",
   "metadata": {},
   "source": [
    "<h1>Question 5</h1>\n",
    "Create a DecisionTreeRegressor model and fit it to this data. Print the score on train and test data.\n"
   ]
  },
  {
   "cell_type": "code",
   "execution_count": 19,
   "metadata": {},
   "outputs": [
    {
     "name": "stdout",
     "output_type": "stream",
     "text": [
      "The training score for the Decision Tree Regressor is: 1.000\n",
      "The test score for the Decision Tree Regressor is: 0.581\n"
     ]
    }
   ],
   "source": [
    "dt = DecisionTreeRegressor().fit(X_train, y_train)\n",
    "print(\"The training score for the Decision Tree Regressor is: {:.3f}\".format(dt.score(X_train, y_train)))\n",
    "print(\"The test score for the Decision Tree Regressor is: {:.3f}\".format(dt.score(X_test, y_test)))\n",
    "\n",
    "# IT looks like its overfitting. It is not that we mind the training results to be hight, but it is a problem that the test result is low.\n"
   ]
  },
  {
   "cell_type": "markdown",
   "metadata": {},
   "source": [
    "<h1>Question 6</h1>\n",
    "Create a RandomForestRegressor model and fit it to this data. Print the score on train and test data.\n"
   ]
  },
  {
   "cell_type": "code",
   "execution_count": 20,
   "metadata": {},
   "outputs": [
    {
     "name": "stdout",
     "output_type": "stream",
     "text": [
      "The training score for the Decision Tree Regressor is: 0.973\n",
      "The test score for the Decision Tree Regressor is: 0.794\n"
     ]
    }
   ],
   "source": [
    "\n",
    "rf = RandomForestRegressor(random_state=0).fit(X_train, y_train)\n",
    "\n",
    "print(\"The training score for the Decision Tree Regressor is: {:.3f}\".format(rf.score(X_train, y_train)))\n",
    "print(\"The test score for the Decision Tree Regressor is: {:.3f}\".format(rf.score(X_test, y_test)))\n"
   ]
  },
  {
   "cell_type": "markdown",
   "metadata": {},
   "source": [
    "# Classification"
   ]
  },
  {
   "cell_type": "markdown",
   "metadata": {},
   "source": [
    "## Question 7\n",
    "Read the file, telco.csv, and assign all the columns to X, except the column 'Churn', which you assign to y. Then perform a train-test split, setting the parameter: stratify=y."
   ]
  },
  {
   "cell_type": "code",
   "execution_count": 21,
   "metadata": {},
   "outputs": [
    {
     "data": {
      "text/html": [
       "<div>\n",
       "<style scoped>\n",
       "    .dataframe tbody tr th:only-of-type {\n",
       "        vertical-align: middle;\n",
       "    }\n",
       "\n",
       "    .dataframe tbody tr th {\n",
       "        vertical-align: top;\n",
       "    }\n",
       "\n",
       "    .dataframe thead th {\n",
       "        text-align: right;\n",
       "    }\n",
       "</style>\n",
       "<table border=\"1\" class=\"dataframe\">\n",
       "  <thead>\n",
       "    <tr style=\"text-align: right;\">\n",
       "      <th></th>\n",
       "      <th>Unnamed: 0</th>\n",
       "      <th>tenure</th>\n",
       "      <th>Partner</th>\n",
       "      <th>Dependents</th>\n",
       "      <th>gender</th>\n",
       "      <th>PhoneService</th>\n",
       "      <th>PaperlessBilling</th>\n",
       "      <th>MonthlyCharges</th>\n",
       "      <th>TotalCharges</th>\n",
       "      <th>MultipleLines_No phone service</th>\n",
       "      <th>...</th>\n",
       "      <th>StreamingTV_No internet service</th>\n",
       "      <th>StreamingTV_Yes</th>\n",
       "      <th>StreamingMovies_No internet service</th>\n",
       "      <th>StreamingMovies_Yes</th>\n",
       "      <th>Contract_One year</th>\n",
       "      <th>Contract_Two year</th>\n",
       "      <th>PaymentMethod_Credit card (automatic)</th>\n",
       "      <th>PaymentMethod_Electronic check</th>\n",
       "      <th>PaymentMethod_Mailed check</th>\n",
       "      <th>Churn</th>\n",
       "    </tr>\n",
       "  </thead>\n",
       "  <tbody>\n",
       "    <tr>\n",
       "      <th>0</th>\n",
       "      <td>0</td>\n",
       "      <td>1</td>\n",
       "      <td>1</td>\n",
       "      <td>0</td>\n",
       "      <td>0</td>\n",
       "      <td>0</td>\n",
       "      <td>1</td>\n",
       "      <td>29.85</td>\n",
       "      <td>29.85</td>\n",
       "      <td>1</td>\n",
       "      <td>...</td>\n",
       "      <td>0</td>\n",
       "      <td>0</td>\n",
       "      <td>0</td>\n",
       "      <td>0</td>\n",
       "      <td>0</td>\n",
       "      <td>0</td>\n",
       "      <td>0</td>\n",
       "      <td>1</td>\n",
       "      <td>0</td>\n",
       "      <td>No</td>\n",
       "    </tr>\n",
       "    <tr>\n",
       "      <th>1</th>\n",
       "      <td>1</td>\n",
       "      <td>34</td>\n",
       "      <td>0</td>\n",
       "      <td>0</td>\n",
       "      <td>1</td>\n",
       "      <td>1</td>\n",
       "      <td>0</td>\n",
       "      <td>56.95</td>\n",
       "      <td>1889.50</td>\n",
       "      <td>0</td>\n",
       "      <td>...</td>\n",
       "      <td>0</td>\n",
       "      <td>0</td>\n",
       "      <td>0</td>\n",
       "      <td>0</td>\n",
       "      <td>1</td>\n",
       "      <td>0</td>\n",
       "      <td>0</td>\n",
       "      <td>0</td>\n",
       "      <td>1</td>\n",
       "      <td>No</td>\n",
       "    </tr>\n",
       "    <tr>\n",
       "      <th>2</th>\n",
       "      <td>2</td>\n",
       "      <td>2</td>\n",
       "      <td>0</td>\n",
       "      <td>0</td>\n",
       "      <td>1</td>\n",
       "      <td>1</td>\n",
       "      <td>1</td>\n",
       "      <td>53.85</td>\n",
       "      <td>108.15</td>\n",
       "      <td>0</td>\n",
       "      <td>...</td>\n",
       "      <td>0</td>\n",
       "      <td>0</td>\n",
       "      <td>0</td>\n",
       "      <td>0</td>\n",
       "      <td>0</td>\n",
       "      <td>0</td>\n",
       "      <td>0</td>\n",
       "      <td>0</td>\n",
       "      <td>1</td>\n",
       "      <td>Yes</td>\n",
       "    </tr>\n",
       "    <tr>\n",
       "      <th>3</th>\n",
       "      <td>3</td>\n",
       "      <td>45</td>\n",
       "      <td>0</td>\n",
       "      <td>0</td>\n",
       "      <td>1</td>\n",
       "      <td>0</td>\n",
       "      <td>0</td>\n",
       "      <td>42.30</td>\n",
       "      <td>1840.75</td>\n",
       "      <td>1</td>\n",
       "      <td>...</td>\n",
       "      <td>0</td>\n",
       "      <td>0</td>\n",
       "      <td>0</td>\n",
       "      <td>0</td>\n",
       "      <td>1</td>\n",
       "      <td>0</td>\n",
       "      <td>0</td>\n",
       "      <td>0</td>\n",
       "      <td>0</td>\n",
       "      <td>No</td>\n",
       "    </tr>\n",
       "    <tr>\n",
       "      <th>4</th>\n",
       "      <td>4</td>\n",
       "      <td>2</td>\n",
       "      <td>0</td>\n",
       "      <td>0</td>\n",
       "      <td>0</td>\n",
       "      <td>1</td>\n",
       "      <td>1</td>\n",
       "      <td>70.70</td>\n",
       "      <td>151.65</td>\n",
       "      <td>0</td>\n",
       "      <td>...</td>\n",
       "      <td>0</td>\n",
       "      <td>0</td>\n",
       "      <td>0</td>\n",
       "      <td>0</td>\n",
       "      <td>0</td>\n",
       "      <td>0</td>\n",
       "      <td>0</td>\n",
       "      <td>1</td>\n",
       "      <td>0</td>\n",
       "      <td>Yes</td>\n",
       "    </tr>\n",
       "  </tbody>\n",
       "</table>\n",
       "<p>5 rows × 31 columns</p>\n",
       "</div>"
      ],
      "text/plain": [
       "   Unnamed: 0  tenure  Partner  Dependents  gender  PhoneService  \\\n",
       "0           0       1        1           0       0             0   \n",
       "1           1      34        0           0       1             1   \n",
       "2           2       2        0           0       1             1   \n",
       "3           3      45        0           0       1             0   \n",
       "4           4       2        0           0       0             1   \n",
       "\n",
       "   PaperlessBilling  MonthlyCharges  TotalCharges  \\\n",
       "0                 1           29.85         29.85   \n",
       "1                 0           56.95       1889.50   \n",
       "2                 1           53.85        108.15   \n",
       "3                 0           42.30       1840.75   \n",
       "4                 1           70.70        151.65   \n",
       "\n",
       "   MultipleLines_No phone service  ...  StreamingTV_No internet service  \\\n",
       "0                               1  ...                                0   \n",
       "1                               0  ...                                0   \n",
       "2                               0  ...                                0   \n",
       "3                               1  ...                                0   \n",
       "4                               0  ...                                0   \n",
       "\n",
       "   StreamingTV_Yes  StreamingMovies_No internet service  StreamingMovies_Yes  \\\n",
       "0                0                                    0                    0   \n",
       "1                0                                    0                    0   \n",
       "2                0                                    0                    0   \n",
       "3                0                                    0                    0   \n",
       "4                0                                    0                    0   \n",
       "\n",
       "   Contract_One year  Contract_Two year  \\\n",
       "0                  0                  0   \n",
       "1                  1                  0   \n",
       "2                  0                  0   \n",
       "3                  1                  0   \n",
       "4                  0                  0   \n",
       "\n",
       "   PaymentMethod_Credit card (automatic)  PaymentMethod_Electronic check  \\\n",
       "0                                      0                               1   \n",
       "1                                      0                               0   \n",
       "2                                      0                               0   \n",
       "3                                      0                               0   \n",
       "4                                      0                               1   \n",
       "\n",
       "   PaymentMethod_Mailed check  Churn  \n",
       "0                           0     No  \n",
       "1                           1     No  \n",
       "2                           1    Yes  \n",
       "3                           0     No  \n",
       "4                           0    Yes  \n",
       "\n",
       "[5 rows x 31 columns]"
      ]
     },
     "execution_count": 21,
     "metadata": {},
     "output_type": "execute_result"
    }
   ],
   "source": [
    "df=pd.read_csv(\"3. telco.csv\")\n",
    "\n",
    "df.head(5)\n"
   ]
  },
  {
   "cell_type": "code",
   "execution_count": 22,
   "metadata": {},
   "outputs": [
    {
     "data": {
      "text/plain": [
       "(7032, 31)"
      ]
     },
     "execution_count": 22,
     "metadata": {},
     "output_type": "execute_result"
    }
   ],
   "source": [
    "df.shape"
   ]
  },
  {
   "cell_type": "code",
   "execution_count": 23,
   "metadata": {},
   "outputs": [
    {
     "name": "stdout",
     "output_type": "stream",
     "text": [
      "shape of X: (7032, 30)\n",
      "\n",
      "shape of y: (7032,)\n"
     ]
    }
   ],
   "source": [
    "\n",
    "#X will be de features (All the columns, but the churn)\n",
    "#y will be the label \n",
    "\n",
    "\n",
    "X = df.drop([\"Churn\"], axis=1)  #Axis=1 = the whole column --> Sometimes we want to drop more than one columns\n",
    "y = df['Churn']\n",
    "\n",
    "X_train, X_test, y_train, y_test = train_test_split( X, y, stratify=y, random_state=0)\n",
    "\n",
    "print(\"shape of X:\", X.shape)\n",
    "print(\"\\nshape of y:\", y.shape)\n"
   ]
  },
  {
   "cell_type": "code",
   "execution_count": 24,
   "metadata": {},
   "outputs": [
    {
     "data": {
      "text/plain": [
       "(7032,)"
      ]
     },
     "execution_count": 24,
     "metadata": {},
     "output_type": "execute_result"
    }
   ],
   "source": [
    "y.shape"
   ]
  },
  {
   "cell_type": "markdown",
   "metadata": {},
   "source": [
    "## Question 8\n",
    "Produce a Logistic Regression  Classifier for the telco data. Report training and test results."
   ]
  },
  {
   "cell_type": "code",
   "execution_count": 25,
   "metadata": {},
   "outputs": [
    {
     "name": "stdout",
     "output_type": "stream",
     "text": [
      "Accuracy on the training subset: 0.802\n",
      "Accuracy on the test subset: 0.800\n"
     ]
    },
    {
     "name": "stderr",
     "output_type": "stream",
     "text": [
      "/opt/anaconda3/lib/python3.9/site-packages/sklearn/linear_model/_logistic.py:814: ConvergenceWarning: lbfgs failed to converge (status=1):\n",
      "STOP: TOTAL NO. of ITERATIONS REACHED LIMIT.\n",
      "\n",
      "Increase the number of iterations (max_iter) or scale the data as shown in:\n",
      "    https://scikit-learn.org/stable/modules/preprocessing.html\n",
      "Please also refer to the documentation for alternative solver options:\n",
      "    https://scikit-learn.org/stable/modules/linear_model.html#logistic-regression\n",
      "  n_iter_i = _check_optimize_result(\n"
     ]
    }
   ],
   "source": [
    "\n",
    "\n",
    "log_reg = LogisticRegression(C=1000)  #Eventhoug is not called classifier is used for classification\n",
    "log_reg.fit(X_train, y_train) \n",
    "\n",
    "train_score_not_scaled=log_reg.score(X_train, y_train)\n",
    "test_score_not_scaled=log_reg.score(X_test, y_test)\n",
    "print('Accuracy on the training subset: {:.3f}'.format(train_score_not_scaled))\n",
    "print('Accuracy on the test subset: {:.3f}'.format(test_score_not_scaled))\n",
    "\n"
   ]
  },
  {
   "attachments": {},
   "cell_type": "markdown",
   "metadata": {},
   "source": [
    "# Results \n",
    "\n",
    "It seems that the model is too simple --> underfit. It could be solved by applying a highier C value to make it more complex. So this can be more effective, it might be necesarry to normalized the data"
   ]
  },
  {
   "cell_type": "code",
   "execution_count": 26,
   "metadata": {},
   "outputs": [],
   "source": [
    "from sklearn.preprocessing import MinMaxScaler\n",
    "\n",
    "scaler=MinMaxScaler() #creating the scaler variable\n",
    "scaler.fit(X_train) #The scaler need to be trained only in the training data and not in the test data\n",
    "\n",
    "X_train_scaled = scaler.transform(X_train)\n",
    "X_test_scaled = scaler.transform(X_test) #The same scaler as in the training set need to be used\n",
    "\t\t\t\t\t\t\t\t\t\t\t\t\t\t\t\t\t\t\t\t # scaler.transform\n",
    "\n"
   ]
  },
  {
   "cell_type": "code",
   "execution_count": 27,
   "metadata": {},
   "outputs": [
    {
     "name": "stdout",
     "output_type": "stream",
     "text": [
      "The training score without using MinMaxScaler: 0.80\n",
      "The test score without using MinMaxscaler: 0.80\n",
      "The training score without MinMaxScaler: 0.80\n",
      "The test score using MinMaxscaler: 0.80\n"
     ]
    }
   ],
   "source": [
    "from sklearn.linear_model import LogisticRegression \n",
    "\n",
    "clf = LogisticRegression(C=100).fit(X_train_scaled, y_train) # Fitting the model with the scaled train features\n",
    "re_score=clf.score(X_test_scaled, y_test) # Fitting the model with the scaled test features\n",
    "\n",
    "print(\"The training score without using MinMaxScaler: {:.2f}\\nThe test score without using MinMaxscaler: {:.2f}\".format(train_score_not_scaled,test_score_not_scaled))\n",
    "print(\"The training score without MinMaxScaler: {:.2f}\\nThe test score using MinMaxscaler: {:.2f}\".format(clf.score(X_train_scaled,y_train),clf.score(X_train_scaled,y_train)))\n",
    "\n",
    "\n",
    "\n",
    "#There is not siginificant change.\n"
   ]
  },
  {
   "cell_type": "markdown",
   "metadata": {},
   "source": [
    "## Question 8\n",
    "Produce a Decision Tree Classifier for the telco data. Report training and test results."
   ]
  },
  {
   "cell_type": "code",
   "execution_count": 28,
   "metadata": {},
   "outputs": [
    {
     "name": "stdout",
     "output_type": "stream",
     "text": [
      "Accuracy on the training subset: 1.000\n",
      "Accuracy on the test subset: 0.737\n"
     ]
    }
   ],
   "source": [
    "\n",
    "DTc = DecisionTreeClassifier().fit(X_train, y_train)\n",
    "print('Accuracy on the training subset: {:.3f}'.format(DTc.score(X_train, y_train)))\n",
    "print('Accuracy on the test subset: {:.3f}'.format(DTc.score(X_test, y_test)))\n",
    "\n",
    "\n"
   ]
  },
  {
   "cell_type": "markdown",
   "metadata": {},
   "source": [
    "Now construct a decision tree with max_depth of 2, and fit the tree to the training data. Then use the code below to display the tree (note that the model below is called \"dtree\").\n"
   ]
  },
  {
   "cell_type": "code",
   "execution_count": 35,
   "metadata": {},
   "outputs": [
    {
     "name": "stdout",
     "output_type": "stream",
     "text": [
      "Accuracy on the training subset: 0.789\n",
      "Accuracy on the test subset: 0.792\n"
     ]
    }
   ],
   "source": [
    "#DTcd is the DecisionTreeClassifier with depth\n",
    "DTcd = DecisionTreeClassifier(random_state=0,max_depth=2).fit(X_train,y_train)\n",
    "\n",
    "print('Accuracy on the training subset: {:.3f}'.format(DTcd.score(X_train, y_train)))\n",
    "print('Accuracy on the test subset: {:.3f}'.format(DTcd.score(X_test, y_test)))\n",
    "\n",
    "\n",
    "#it looks like overfitting \n"
   ]
  },
  {
   "cell_type": "code",
   "execution_count": 36,
   "metadata": {},
   "outputs": [
    {
     "data": {
      "image/png": "[encoded data removed]",
      "text/plain": [
       "<Figure size 1944x1440 with 1 Axes>"
      ]
     },
     "metadata": {
      "needs_background": "light"
     },
     "output_type": "display_data"
    }
   ],
   "source": [
    "# I need to import Matplotlib & \"tree\" from sklearn \n",
    "# https://scikit-learn.org/stable/modules/generated/sklearn.tree.plot_tree.html\n",
    "\n",
    "\n",
    "fig = plt.figure(figsize=(27,20))\n",
    "_= tree.plot_tree(DTcd, feature_names=X.columns, class_names=[\"No churn\", \"Churn\"], filled=True)\n",
    "\n",
    "# More info on tree display here: https://mljar.com/blog/visualize-decision-tree/\n",
    "\n",
    "#The samples are only 5274 because is only made on the trianing data (75% of the data)\n",
    "#The target values/labelled or class is : \"No churn\" or \"churn\"\n",
    "#The value tell us the amount of samples of each class. E.g. values [3872,1402] = [3872 samples No Churn, 1042 samples Churn]"
   ]
  },
  {
   "cell_type": "code",
   "execution_count": 64,
   "metadata": {},
   "outputs": [],
   "source": [
    "# In order to save the decision tree use the code below\n",
    "\n",
    "# fig.savefig(\"decistion_tree.png\")\n"
   ]
  },
  {
   "cell_type": "markdown",
   "metadata": {},
   "source": [
    "<h2>Question 10</h2>\n",
    "Construct a random forest classifier for this data. Report train and test accuracy."
   ]
  },
  {
   "cell_type": "code",
   "execution_count": 34,
   "metadata": {},
   "outputs": [
    {
     "name": "stdout",
     "output_type": "stream",
     "text": [
      "Evaluating the Random Forest Classifier \n",
      "\n",
      "Training Score: 1.00, Test Score:t: 1.00\n",
      "\n"
     ]
    }
   ],
   "source": [
    "from sklearn.ensemble import RandomForestClassifier\n",
    "\n",
    "clf = RandomForestClassifier( random_state=0).fit(X,y)\n",
    "\n",
    "\n",
    "#clf = RandomForestClassifier(n_estimators=120, max_features=8, random_state=0).fit(X,y)\n",
    "\n",
    "\n",
    "print(\"Evaluating the Random Forest Classifier \\n\\nTraining Score: {:.2f}, Test Score:t: {:.2f}\\n\".format(clf.score(X_train, y_train),clf.score(X_test, y_test)))\n",
    "\n"
   ]
  },
  {
   "cell_type": "code",
   "execution_count": null,
   "metadata": {},
   "outputs": [],
   "source": []
  }
 ],
 "metadata": {
  "kernelspec": {
   "display_name": "Python 3",
   "language": "python",
   "name": "python3"
  },
  "language_info": {
   "codemirror_mode": {
    "name": "ipython",
    "version": 3
   },
   "file_extension": ".py",
   "mimetype": "text/x-python",
   "name": "python",
   "nbconvert_exporter": "python",
   "pygments_lexer": "ipython3",
   "version": "3.9.12"
  },
  "vscode": {
   "interpreter": {
    "hash": "40d3a090f54c6569ab1632332b64b2c03c39dcf918b08424e98f38b5ae0af88f"
   }
  }
 },
 "nbformat": 4,
 "nbformat_minor": 2
}
