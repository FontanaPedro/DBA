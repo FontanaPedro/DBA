{
 "cells": [
  {
   "cell_type": "markdown",
   "metadata": {},
   "source": [
    "# Lab Session 1 - Introduction to Machine Learning"
   ]
  },
  {
   "cell_type": "markdown",
   "metadata": {},
   "source": [
    "For this lab session, we will go through a simple machine learning application and create our first model. We will be using the **Fruit Dataset** to create a classifier that can predict Fruit Type (apple, mandarin, orange, and lemon)."
   ]
  },
  {
   "cell_type": "markdown",
   "metadata": {},
   "source": [
    "## Import required modules"
   ]
  },
  {
   "cell_type": "code",
   "execution_count": 6,
   "metadata": {},
   "outputs": [],
   "source": [
    "%matplotlib notebook\n",
    "import numpy as np\n",
    "import matplotlib.pyplot as plt\n",
    "import pandas as pd\n",
    "\n",
    "from sklearn.model_selection import train_test_split\n",
    "from sklearn.neighbors import KNeighborsClassifier\n"
   ]
  },
  {
   "cell_type": "markdown",
   "metadata": {},
   "source": [
    "## First Things First: Look at Your Data"
   ]
  },
  {
   "cell_type": "markdown",
   "metadata": {},
   "source": [
    "### Question 0\n",
    " \n",
    "**Using `read_csv`, create a dataframe and keep in mind that the dataset file \"fruits.txt\" should be in the same folder as your python file.**"
   ]
  },
  {
   "cell_type": "code",
   "execution_count": 7,
   "metadata": {},
   "outputs": [
    {
     "data": {
      "text/html": [
       "<div>\n",
       "<style scoped>\n",
       "    .dataframe tbody tr th:only-of-type {\n",
       "        vertical-align: middle;\n",
       "    }\n",
       "\n",
       "    .dataframe tbody tr th {\n",
       "        vertical-align: top;\n",
       "    }\n",
       "\n",
       "    .dataframe thead th {\n",
       "        text-align: right;\n",
       "    }\n",
       "</style>\n",
       "<table border=\"1\" class=\"dataframe\">\n",
       "  <thead>\n",
       "    <tr style=\"text-align: right;\">\n",
       "      <th></th>\n",
       "      <th>name</th>\n",
       "      <th>subtype</th>\n",
       "      <th>mass</th>\n",
       "      <th>width</th>\n",
       "      <th>height</th>\n",
       "      <th>color_score</th>\n",
       "    </tr>\n",
       "  </thead>\n",
       "  <tbody>\n",
       "    <tr>\n",
       "      <th>0</th>\n",
       "      <td>apple</td>\n",
       "      <td>granny_smith</td>\n",
       "      <td>192</td>\n",
       "      <td>8.4</td>\n",
       "      <td>7.3</td>\n",
       "      <td>0.55</td>\n",
       "    </tr>\n",
       "    <tr>\n",
       "      <th>1</th>\n",
       "      <td>apple</td>\n",
       "      <td>granny_smith</td>\n",
       "      <td>180</td>\n",
       "      <td>8.0</td>\n",
       "      <td>6.8</td>\n",
       "      <td>0.59</td>\n",
       "    </tr>\n",
       "    <tr>\n",
       "      <th>2</th>\n",
       "      <td>apple</td>\n",
       "      <td>granny_smith</td>\n",
       "      <td>176</td>\n",
       "      <td>7.4</td>\n",
       "      <td>7.2</td>\n",
       "      <td>0.60</td>\n",
       "    </tr>\n",
       "    <tr>\n",
       "      <th>3</th>\n",
       "      <td>mandarin</td>\n",
       "      <td>mandarin</td>\n",
       "      <td>86</td>\n",
       "      <td>6.2</td>\n",
       "      <td>4.7</td>\n",
       "      <td>0.80</td>\n",
       "    </tr>\n",
       "    <tr>\n",
       "      <th>4</th>\n",
       "      <td>mandarin</td>\n",
       "      <td>mandarin</td>\n",
       "      <td>84</td>\n",
       "      <td>6.0</td>\n",
       "      <td>4.6</td>\n",
       "      <td>0.79</td>\n",
       "    </tr>\n",
       "  </tbody>\n",
       "</table>\n",
       "</div>"
      ],
      "text/plain": [
       "       name       subtype  mass  width  height  color_score\n",
       "0     apple  granny_smith   192    8.4     7.3         0.55\n",
       "1     apple  granny_smith   180    8.0     6.8         0.59\n",
       "2     apple  granny_smith   176    7.4     7.2         0.60\n",
       "3  mandarin      mandarin    86    6.2     4.7         0.80\n",
       "4  mandarin      mandarin    84    6.0     4.6         0.79"
      ]
     },
     "execution_count": 7,
     "metadata": {},
     "output_type": "execute_result"
    }
   ],
   "source": [
    "df=pd.read_csv(\"fruits.txt\")\n",
    "df.head(5)\n",
    "\n",
    "#Each row corresponds to a single data instance (sample)\n",
    "#The features are the \"mass, width, hight and color_score\" and they are describing each data intance (sample)\n",
    "#In a supervised ML model the table should also have a \"label\" columns "
   ]
  },
  {
   "cell_type": "markdown",
   "metadata": {},
   "source": [
    "### Question 1\n",
    "\n",
    "How many data points (**Number of Instances**) and features (**Number of Attributes**) does the fruit dataset have?\n",
    "\n",
    "(Hint: use `shape`)\n",
    "\n",
    "What is the class distribution? (i.e. how many instances of `apple`, `mandarin`, `orange`, and `lemon`)\n",
    "\n",
    "Hint: use value_counts()\n",
    "\n",
    "Using `head` display the first 8 instances of the fruit dataset.\n",
    "\n"
   ]
  },
  {
   "cell_type": "code",
   "execution_count": 3,
   "metadata": {},
   "outputs": [
    {
     "data": {
      "text/plain": [
       "apple       19\n",
       "orange      19\n",
       "lemon       16\n",
       "mandarin     5\n",
       "Name: name, dtype: int64"
      ]
     },
     "execution_count": 3,
     "metadata": {},
     "output_type": "execute_result"
    }
   ],
   "source": [
    "#\n",
    "\n",
    "df[\"name\"].value_counts()"
   ]
  },
  {
   "cell_type": "markdown",
   "metadata": {},
   "source": [
    "## Building a Model"
   ]
  },
  {
   "cell_type": "markdown",
   "metadata": {},
   "source": [
    "### Question 2\n",
    "Split the DataFrame into `X` (the data) and `y` (the labels).\n",
    "\n",
    "*This function should return* \n",
    "* `X` *has shape* `(59, 3)`\n",
    "* `y` *has shape* `(59,)`.\n",
    "\n",
    "**For this example, only use `mass`, `width`, and `height` features**"
   ]
  },
  {
   "cell_type": "code",
   "execution_count": 15,
   "metadata": {},
   "outputs": [
    {
     "name": "stdout",
     "output_type": "stream",
     "text": [
      "    mass  width  height\n",
      "0    192    8.4     7.3\n",
      "1    180    8.0     6.8\n",
      "2    176    7.4     7.2\n",
      "3     86    6.2     4.7\n",
      "4     84    6.0     4.6\n",
      "5     80    5.8     4.3\n",
      "6     80    5.9     4.3\n",
      "7     76    5.8     4.0\n",
      "8    178    7.1     7.8\n",
      "9    172    7.4     7.0\n",
      "10   166    6.9     7.3\n",
      "11   172    7.1     7.6\n",
      "12   154    7.0     7.1\n",
      "13   164    7.3     7.7\n",
      "14   152    7.6     7.3\n",
      "15   156    7.7     7.1\n",
      "16   156    7.6     7.5\n",
      "17   168    7.5     7.6\n",
      "18   162    7.5     7.1\n",
      "19   162    7.4     7.2\n",
      "20   160    7.5     7.5\n",
      "21   156    7.4     7.4\n",
      "22   140    7.3     7.1\n",
      "23   170    7.6     7.9\n",
      "24   342    9.0     9.4\n",
      "25   356    9.2     9.2\n",
      "26   362    9.6     9.2\n",
      "27   204    7.5     9.2\n",
      "28   140    6.7     7.1\n",
      "29   160    7.0     7.4\n",
      "30   158    7.1     7.5\n",
      "31   210    7.8     8.0\n",
      "32   164    7.2     7.0\n",
      "33   190    7.5     8.1\n",
      "34   142    7.6     7.8\n",
      "35   150    7.1     7.9\n",
      "36   160    7.1     7.6\n",
      "37   154    7.3     7.3\n",
      "38   158    7.2     7.8\n",
      "39   144    6.8     7.4\n",
      "40   154    7.1     7.5\n",
      "41   180    7.6     8.2\n",
      "42   154    7.2     7.2\n",
      "43   194    7.2    10.3\n",
      "44   200    7.3    10.5\n",
      "45   186    7.2     9.2\n",
      "46   216    7.3    10.2\n",
      "47   196    7.3     9.7\n",
      "48   174    7.3    10.1\n",
      "49   132    5.8     8.7\n",
      "50   130    6.0     8.2\n",
      "51   116    6.0     7.5\n",
      "52   118    5.9     8.0\n",
      "53   120    6.0     8.4\n",
      "54   116    6.1     8.5\n",
      "55   116    6.3     7.7\n",
      "56   116    5.9     8.1\n",
      "57   152    6.5     8.5\n",
      "58   118    6.1     8.1 0        apple\n",
      "1        apple\n",
      "2        apple\n",
      "3     mandarin\n",
      "4     mandarin\n",
      "5     mandarin\n",
      "6     mandarin\n",
      "7     mandarin\n",
      "8        apple\n",
      "9        apple\n",
      "10       apple\n",
      "11       apple\n",
      "12       apple\n",
      "13       apple\n",
      "14       apple\n",
      "15       apple\n",
      "16       apple\n",
      "17       apple\n",
      "18       apple\n",
      "19       apple\n",
      "20       apple\n",
      "21       apple\n",
      "22       apple\n",
      "23       apple\n",
      "24      orange\n",
      "25      orange\n",
      "26      orange\n",
      "27      orange\n",
      "28      orange\n",
      "29      orange\n",
      "30      orange\n",
      "31      orange\n",
      "32      orange\n",
      "33      orange\n",
      "34      orange\n",
      "35      orange\n",
      "36      orange\n",
      "37      orange\n",
      "38      orange\n",
      "39      orange\n",
      "40      orange\n",
      "41      orange\n",
      "42      orange\n",
      "43       lemon\n",
      "44       lemon\n",
      "45       lemon\n",
      "46       lemon\n",
      "47       lemon\n",
      "48       lemon\n",
      "49       lemon\n",
      "50       lemon\n",
      "51       lemon\n",
      "52       lemon\n",
      "53       lemon\n",
      "54       lemon\n",
      "55       lemon\n",
      "56       lemon\n",
      "57       lemon\n",
      "58       lemon\n",
      "Name: name, dtype: object\n"
     ]
    }
   ],
   "source": [
    "y = df[\"name\"]\n",
    "x = df[[\"mass\",\"width\",\"height\"]]\n",
    "\n",
    "df_new=df\n",
    "print(x,y)\n"
   ]
  },
  {
   "cell_type": "markdown",
   "metadata": {},
   "source": [
    "### Question 3\n",
    "Using `train_test_split`, split `X` and `y` into training and test sets `(X_train, X_test, y_train, and y_test)`.\n",
    "\n",
    "**Set the random number generator state to 0 using `random_state=0`**\n",
    "(This way, the same selection of test data is done each time)\n",
    "\n",
    "This function should return a tuple of length 4: `(X_train, X_test, y_train, y_test)`\n",
    "Print the shape of each of these 4 elements\n"
   ]
  },
  {
   "cell_type": "code",
   "execution_count": null,
   "metadata": {},
   "outputs": [],
   "source": []
  },
  {
   "cell_type": "markdown",
   "metadata": {},
   "source": [
    "## Building Your First Model: k-Nearest Neighbors"
   ]
  },
  {
   "cell_type": "markdown",
   "metadata": {},
   "source": [
    "### Question 4\n",
    "Using `KNeighborsClassifier` create a classifier object using five nearest neighbors (`n_neighbors = 5`).\n",
    "\n",
    "*This function should return a `sklearn.neighbors.classification.KNeighborsClassifier`."
   ]
  },
  {
   "cell_type": "code",
   "execution_count": null,
   "metadata": {},
   "outputs": [],
   "source": []
  },
  {
   "cell_type": "markdown",
   "metadata": {},
   "source": [
    "### \n",
    "Using your knn classifier object `knn` and `X_train`, `y_train` train the classifier (fit the estimator)."
   ]
  },
  {
   "cell_type": "code",
   "execution_count": null,
   "metadata": {},
   "outputs": [],
   "source": []
  },
  {
   "cell_type": "markdown",
   "metadata": {},
   "source": [
    "### Question 5\n",
    "Use the trained k-NN classifier model to classify new, previously unseen objects\n",
    "\n",
    "**Use the following input: fruit with mass `20g`, width `4,3 cm`, height `5,5 cm`**\n",
    "**Use the following input: a small fruit with mass `100g`, width `6,3 cm`, height `8,5 cm`**\n"
   ]
  },
  {
   "cell_type": "code",
   "execution_count": null,
   "metadata": {},
   "outputs": [],
   "source": []
  },
  {
   "cell_type": "markdown",
   "metadata": {
    "collapsed": true
   },
   "source": [
    "## Evaluating the Model"
   ]
  },
  {
   "cell_type": "markdown",
   "metadata": {},
   "source": [
    "### Question 6\n",
    "We can measure how well the model works by computing the accuracy on the test data. This is the fraction of fruits for which the right fruit type was predicted:\n",
    "\n",
    "**Use `score` to evalute the accuracy of the classifier, using the test data**"
   ]
  },
  {
   "cell_type": "code",
   "execution_count": null,
   "metadata": {},
   "outputs": [],
   "source": []
  },
  {
   "cell_type": "markdown",
   "metadata": {
    "collapsed": true
   },
   "source": [
    "## Improving the Model"
   ]
  },
  {
   "cell_type": "markdown",
   "metadata": {},
   "source": [
    "### Question 7\n",
    "Try to improve the accuracy, by changing the number of neighbors. What is the optimal number of neighbors?\n",
    "\n",
    "Now try adding distance weighting by changing the default value of the weights parameter (as described here https://scikit-learn.org/stable/modules/generated/sklearn.neighbors.KNeighborsClassifier.html)\n",
    "\n",
    "What is the best accuracy you get? What is the optimal number of neighbors with distance weighting? "
   ]
  },
  {
   "cell_type": "code",
   "execution_count": null,
   "metadata": {},
   "outputs": [],
   "source": []
  },
  {
   "cell_type": "markdown",
   "metadata": {},
   "source": [
    "### Question 8\n",
    "\n",
    "Try to include the color_score feature in the data. To do this, you need to reassign X with the fruits dataframe, this time including color_score. Then re-do the train-test split, and fit the model again. Print the score for the test data."
   ]
  },
  {
   "cell_type": "code",
   "execution_count": null,
   "metadata": {},
   "outputs": [],
   "source": [
    "\n",
    "\n",
    "\n"
   ]
  },
  {
   "cell_type": "markdown",
   "metadata": {},
   "source": [
    "### Question 9\n",
    "\n",
    "Is the result different? Our results might not be very reliable, since we have such a small amount of test data. Try doing the train-test split 5 times, but this time allowing random variation by removing the random_state argument. Make a loop where you compute the average test score, with and without color_score. Based on this, do you think color_score adds useful information?"
   ]
  },
  {
   "cell_type": "code",
   "execution_count": 16,
   "metadata": {},
   "outputs": [],
   "source": [
    "\n",
    "\n"
   ]
  }
 ],
 "metadata": {
  "coursera": {
   "course_slug": "python-machine-learning",
   "graded_item_id": "f9SY5",
   "launcher_item_id": "oxndk",
   "part_id": "mh1Vo"
  },
  "kernelspec": {
   "display_name": "Python 3 (ipykernel)",
   "language": "python",
   "name": "python3"
  },
  "language_info": {
   "codemirror_mode": {
    "name": "ipython",
    "version": 3
   },
   "file_extension": ".py",
   "mimetype": "text/x-python",
   "name": "python",
   "nbconvert_exporter": "python",
   "pygments_lexer": "ipython3",
   "version": "3.9.12"
  }
 },
 "nbformat": 4,
 "nbformat_minor": 1
}
