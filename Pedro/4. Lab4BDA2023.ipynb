{
 "cells": [
  {
   "cell_type": "code",
   "execution_count": 1,
   "metadata": {},
   "outputs": [
    {
     "name": "stderr",
     "output_type": "stream",
     "text": [
      "/opt/anaconda3/lib/python3.9/site-packages/scipy/__init__.py:146: UserWarning: A NumPy version >=1.16.5 and <1.23.0 is required for this version of SciPy (detected version 1.23.4\n",
      "  warnings.warn(f\"A NumPy version >={np_minversion} and <{np_maxversion}\"\n"
     ]
    }
   ],
   "source": [
    "import pandas as pd\n",
    "import matplotlib.pyplot as plt\n",
    "from sklearn.model_selection import train_test_split\n",
    "from sklearn.ensemble import RandomForestClassifier\n",
    "from sklearn.ensemble import RandomForestRegressor\n",
    "from sklearn.neural_network import MLPClassifier\n",
    "from sklearn.linear_model import LinearRegression"
   ]
  },
  {
   "cell_type": "markdown",
   "metadata": {},
   "source": [
    "### Question 0\n",
    "Load the telco data file we used in Lab 3, and perform a train-test split. Now build a Random Forest model, and print the score on train and test. "
   ]
  },
  {
   "cell_type": "code",
   "execution_count": 2,
   "metadata": {},
   "outputs": [
    {
     "data": {
      "text/html": [
       "<div>\n",
       "<style scoped>\n",
       "    .dataframe tbody tr th:only-of-type {\n",
       "        vertical-align: middle;\n",
       "    }\n",
       "\n",
       "    .dataframe tbody tr th {\n",
       "        vertical-align: top;\n",
       "    }\n",
       "\n",
       "    .dataframe thead th {\n",
       "        text-align: right;\n",
       "    }\n",
       "</style>\n",
       "<table border=\"1\" class=\"dataframe\">\n",
       "  <thead>\n",
       "    <tr style=\"text-align: right;\">\n",
       "      <th></th>\n",
       "      <th>Unnamed: 0</th>\n",
       "      <th>tenure</th>\n",
       "      <th>Partner</th>\n",
       "      <th>Dependents</th>\n",
       "      <th>gender</th>\n",
       "      <th>PhoneService</th>\n",
       "      <th>PaperlessBilling</th>\n",
       "      <th>MonthlyCharges</th>\n",
       "      <th>TotalCharges</th>\n",
       "      <th>MultipleLines_No phone service</th>\n",
       "      <th>...</th>\n",
       "      <th>StreamingTV_No internet service</th>\n",
       "      <th>StreamingTV_Yes</th>\n",
       "      <th>StreamingMovies_No internet service</th>\n",
       "      <th>StreamingMovies_Yes</th>\n",
       "      <th>Contract_One year</th>\n",
       "      <th>Contract_Two year</th>\n",
       "      <th>PaymentMethod_Credit card (automatic)</th>\n",
       "      <th>PaymentMethod_Electronic check</th>\n",
       "      <th>PaymentMethod_Mailed check</th>\n",
       "      <th>Churn</th>\n",
       "    </tr>\n",
       "  </thead>\n",
       "  <tbody>\n",
       "    <tr>\n",
       "      <th>0</th>\n",
       "      <td>0</td>\n",
       "      <td>1</td>\n",
       "      <td>1</td>\n",
       "      <td>0</td>\n",
       "      <td>0</td>\n",
       "      <td>0</td>\n",
       "      <td>1</td>\n",
       "      <td>29.85</td>\n",
       "      <td>29.85</td>\n",
       "      <td>1</td>\n",
       "      <td>...</td>\n",
       "      <td>0</td>\n",
       "      <td>0</td>\n",
       "      <td>0</td>\n",
       "      <td>0</td>\n",
       "      <td>0</td>\n",
       "      <td>0</td>\n",
       "      <td>0</td>\n",
       "      <td>1</td>\n",
       "      <td>0</td>\n",
       "      <td>No</td>\n",
       "    </tr>\n",
       "    <tr>\n",
       "      <th>1</th>\n",
       "      <td>1</td>\n",
       "      <td>34</td>\n",
       "      <td>0</td>\n",
       "      <td>0</td>\n",
       "      <td>1</td>\n",
       "      <td>1</td>\n",
       "      <td>0</td>\n",
       "      <td>56.95</td>\n",
       "      <td>1889.50</td>\n",
       "      <td>0</td>\n",
       "      <td>...</td>\n",
       "      <td>0</td>\n",
       "      <td>0</td>\n",
       "      <td>0</td>\n",
       "      <td>0</td>\n",
       "      <td>1</td>\n",
       "      <td>0</td>\n",
       "      <td>0</td>\n",
       "      <td>0</td>\n",
       "      <td>1</td>\n",
       "      <td>No</td>\n",
       "    </tr>\n",
       "    <tr>\n",
       "      <th>2</th>\n",
       "      <td>2</td>\n",
       "      <td>2</td>\n",
       "      <td>0</td>\n",
       "      <td>0</td>\n",
       "      <td>1</td>\n",
       "      <td>1</td>\n",
       "      <td>1</td>\n",
       "      <td>53.85</td>\n",
       "      <td>108.15</td>\n",
       "      <td>0</td>\n",
       "      <td>...</td>\n",
       "      <td>0</td>\n",
       "      <td>0</td>\n",
       "      <td>0</td>\n",
       "      <td>0</td>\n",
       "      <td>0</td>\n",
       "      <td>0</td>\n",
       "      <td>0</td>\n",
       "      <td>0</td>\n",
       "      <td>1</td>\n",
       "      <td>Yes</td>\n",
       "    </tr>\n",
       "    <tr>\n",
       "      <th>3</th>\n",
       "      <td>3</td>\n",
       "      <td>45</td>\n",
       "      <td>0</td>\n",
       "      <td>0</td>\n",
       "      <td>1</td>\n",
       "      <td>0</td>\n",
       "      <td>0</td>\n",
       "      <td>42.30</td>\n",
       "      <td>1840.75</td>\n",
       "      <td>1</td>\n",
       "      <td>...</td>\n",
       "      <td>0</td>\n",
       "      <td>0</td>\n",
       "      <td>0</td>\n",
       "      <td>0</td>\n",
       "      <td>1</td>\n",
       "      <td>0</td>\n",
       "      <td>0</td>\n",
       "      <td>0</td>\n",
       "      <td>0</td>\n",
       "      <td>No</td>\n",
       "    </tr>\n",
       "    <tr>\n",
       "      <th>4</th>\n",
       "      <td>4</td>\n",
       "      <td>2</td>\n",
       "      <td>0</td>\n",
       "      <td>0</td>\n",
       "      <td>0</td>\n",
       "      <td>1</td>\n",
       "      <td>1</td>\n",
       "      <td>70.70</td>\n",
       "      <td>151.65</td>\n",
       "      <td>0</td>\n",
       "      <td>...</td>\n",
       "      <td>0</td>\n",
       "      <td>0</td>\n",
       "      <td>0</td>\n",
       "      <td>0</td>\n",
       "      <td>0</td>\n",
       "      <td>0</td>\n",
       "      <td>0</td>\n",
       "      <td>1</td>\n",
       "      <td>0</td>\n",
       "      <td>Yes</td>\n",
       "    </tr>\n",
       "  </tbody>\n",
       "</table>\n",
       "<p>5 rows × 31 columns</p>\n",
       "</div>"
      ],
      "text/plain": [
       "   Unnamed: 0  tenure  Partner  Dependents  gender  PhoneService  \\\n",
       "0           0       1        1           0       0             0   \n",
       "1           1      34        0           0       1             1   \n",
       "2           2       2        0           0       1             1   \n",
       "3           3      45        0           0       1             0   \n",
       "4           4       2        0           0       0             1   \n",
       "\n",
       "   PaperlessBilling  MonthlyCharges  TotalCharges  \\\n",
       "0                 1           29.85         29.85   \n",
       "1                 0           56.95       1889.50   \n",
       "2                 1           53.85        108.15   \n",
       "3                 0           42.30       1840.75   \n",
       "4                 1           70.70        151.65   \n",
       "\n",
       "   MultipleLines_No phone service  ...  StreamingTV_No internet service  \\\n",
       "0                               1  ...                                0   \n",
       "1                               0  ...                                0   \n",
       "2                               0  ...                                0   \n",
       "3                               1  ...                                0   \n",
       "4                               0  ...                                0   \n",
       "\n",
       "   StreamingTV_Yes  StreamingMovies_No internet service  StreamingMovies_Yes  \\\n",
       "0                0                                    0                    0   \n",
       "1                0                                    0                    0   \n",
       "2                0                                    0                    0   \n",
       "3                0                                    0                    0   \n",
       "4                0                                    0                    0   \n",
       "\n",
       "   Contract_One year  Contract_Two year  \\\n",
       "0                  0                  0   \n",
       "1                  1                  0   \n",
       "2                  0                  0   \n",
       "3                  1                  0   \n",
       "4                  0                  0   \n",
       "\n",
       "   PaymentMethod_Credit card (automatic)  PaymentMethod_Electronic check  \\\n",
       "0                                      0                               1   \n",
       "1                                      0                               0   \n",
       "2                                      0                               0   \n",
       "3                                      0                               0   \n",
       "4                                      0                               1   \n",
       "\n",
       "   PaymentMethod_Mailed check  Churn  \n",
       "0                           0     No  \n",
       "1                           1     No  \n",
       "2                           1    Yes  \n",
       "3                           0     No  \n",
       "4                           0    Yes  \n",
       "\n",
       "[5 rows x 31 columns]"
      ]
     },
     "execution_count": 2,
     "metadata": {},
     "output_type": "execute_result"
    }
   ],
   "source": [
    "df=pd.read_csv(\"3. telco.csv\")\n",
    "\n",
    "df.head(5)\n",
    "\n"
   ]
  },
  {
   "cell_type": "code",
   "execution_count": 3,
   "metadata": {},
   "outputs": [
    {
     "data": {
      "text/plain": [
       "(7032, 31)"
      ]
     },
     "execution_count": 3,
     "metadata": {},
     "output_type": "execute_result"
    }
   ],
   "source": [
    "df.shape"
   ]
  },
  {
   "cell_type": "code",
   "execution_count": 4,
   "metadata": {},
   "outputs": [
    {
     "name": "stdout",
     "output_type": "stream",
     "text": [
      "shape of X: (7032, 30)\n",
      "\n",
      "shape of y: (7032,)\n"
     ]
    }
   ],
   "source": [
    "X = df.drop([\"Churn\"], axis=1)  #Axis=1 = the whole column --> Sometimes we want to drop more than one columns\n",
    "y = df['Churn']\n",
    "\n",
    "X_train, X_test, y_train, y_test = train_test_split( X, y, stratify=y, random_state=0)\n",
    "\n",
    "print(\"shape of X:\", X.shape)\n",
    "print(\"\\nshape of y:\", y.shape)"
   ]
  },
  {
   "cell_type": "markdown",
   "metadata": {},
   "source": [
    "<h2>Question 1</h2>\n",
    "Build random forest models with the number of estimators ranging from 20 to 500. Write a loop where n_estimators increases 20 at each iteration, and save the train and test scores in a list. Print the results sorted by test accuracy. <i>Hint: before the loop, create two empty lists for train_scores and test_scores. With each iteration, you can use the append method to add the current scores to the train and test lists.</i>"
   ]
  },
  {
   "cell_type": "code",
   "execution_count": 5,
   "metadata": {},
   "outputs": [
    {
     "name": "stdout",
     "output_type": "stream",
     "text": [
      "1)  For n_estimators = 20, the train score is : 0.996 and the test score is: 0.782 \n",
      "\n",
      "2)  For n_estimators = 40, the train score is : 1.000 and the test score is: 0.780 \n",
      "\n",
      "3)  For n_estimators = 60, the train score is : 1.000 and the test score is: 0.783 \n",
      "\n",
      "4)  For n_estimators = 80, the train score is : 1.000 and the test score is: 0.790 \n",
      "\n",
      "5)  For n_estimators = 100, the train score is : 1.000 and the test score is: 0.784 \n",
      "\n",
      "6)  For n_estimators = 120, the train score is : 1.000 and the test score is: 0.787 \n",
      "\n",
      "7)  For n_estimators = 140, the train score is : 1.000 and the test score is: 0.789 \n",
      "\n",
      "8)  For n_estimators = 160, the train score is : 1.000 and the test score is: 0.786 \n",
      "\n",
      "9)  For n_estimators = 180, the train score is : 1.000 and the test score is: 0.787 \n",
      "\n",
      "10)  For n_estimators = 200, the train score is : 1.000 and the test score is: 0.790 \n",
      "\n",
      "11)  For n_estimators = 220, the train score is : 1.000 and the test score is: 0.791 \n",
      "\n",
      "12)  For n_estimators = 240, the train score is : 1.000 and the test score is: 0.787 \n",
      "\n",
      "13)  For n_estimators = 260, the train score is : 1.000 and the test score is: 0.788 \n",
      "\n",
      "14)  For n_estimators = 280, the train score is : 1.000 and the test score is: 0.792 \n",
      "\n",
      "15)  For n_estimators = 300, the train score is : 1.000 and the test score is: 0.792 \n",
      "\n",
      "16)  For n_estimators = 320, the train score is : 1.000 and the test score is: 0.788 \n",
      "\n",
      "17)  For n_estimators = 340, the train score is : 1.000 and the test score is: 0.788 \n",
      "\n",
      "18)  For n_estimators = 360, the train score is : 1.000 and the test score is: 0.788 \n",
      "\n",
      "19)  For n_estimators = 380, the train score is : 1.000 and the test score is: 0.791 \n",
      "\n",
      "20)  For n_estimators = 400, the train score is : 1.000 and the test score is: 0.790 \n",
      "\n",
      "21)  For n_estimators = 420, the train score is : 1.000 and the test score is: 0.791 \n",
      "\n",
      "22)  For n_estimators = 440, the train score is : 1.000 and the test score is: 0.791 \n",
      "\n",
      "23)  For n_estimators = 460, the train score is : 1.000 and the test score is: 0.790 \n",
      "\n",
      "24)  For n_estimators = 480, the train score is : 1.000 and the test score is: 0.787 \n",
      "\n",
      "25)  For n_estimators = 500, the train score is : 1.000 and the test score is: 0.787 \n",
      "\n"
     ]
    }
   ],
   "source": [
    "\n",
    "from sklearn.ensemble import RandomForestClassifier\n",
    "\n",
    "n=list(range(20,501,20))\n",
    "\n",
    "train_scores=[]\n",
    "test_scores=[]\n",
    "j=0\n",
    "\n",
    "for i in n:\n",
    "    \n",
    "    clf=RandomForestClassifier(n_estimators=i,random_state=0).fit(X_train,y_train)\n",
    "    train_scores.append(clf.score(X_train,y_train))\n",
    "    test_scores.append(clf.score(X_test,y_test))\n",
    "    print (\"{})  For n_estimators = {}, the train score is : {:.3f} and the test score is: {:.3f} \\n\".format(j+1 ,n[j], train_scores[j], test_scores[j]))\n",
    "    j+=1\n",
    "\n",
    "\n"
   ]
  },
  {
   "cell_type": "code",
   "execution_count": 6,
   "metadata": {},
   "outputs": [
    {
     "data": {
      "text/plain": [
       "[0.7821387940841866,\n",
       " 0.7798634812286689,\n",
       " 0.7832764505119454,\n",
       " 0.7895335608646189,\n",
       " 0.7844141069397043,\n",
       " 0.7866894197952219,\n",
       " 0.7889647326507395,\n",
       " 0.7861205915813424,\n",
       " 0.7872582480091013,\n",
       " 0.7901023890784983,\n",
       " 0.7906712172923777,\n",
       " 0.7872582480091013,\n",
       " 0.78839590443686,\n",
       " 0.7918088737201365,\n",
       " 0.7918088737201365,\n",
       " 0.78839590443686,\n",
       " 0.7878270762229806,\n",
       " 0.78839590443686,\n",
       " 0.7912400455062572,\n",
       " 0.7901023890784983,\n",
       " 0.7906712172923777,\n",
       " 0.7912400455062572,\n",
       " 0.7895335608646189,\n",
       " 0.7872582480091013,\n",
       " 0.7866894197952219]"
      ]
     },
     "execution_count": 6,
     "metadata": {},
     "output_type": "execute_result"
    }
   ],
   "source": [
    "test_scores"
   ]
  },
  {
   "cell_type": "markdown",
   "metadata": {},
   "source": [
    "<h2> Question 2</h2>\n",
    "\n",
    "Create a line plot of train and test scores for each value of the number of estimators, by completing the following code. "
   ]
  },
  {
   "cell_type": "code",
   "execution_count": 7,
   "metadata": {},
   "outputs": [
    {
     "data": {
      "image/png": "[encoded data removed]",
      "text/plain": [
       "<Figure size 432x288 with 1 Axes>"
      ]
     },
     "metadata": {
      "needs_background": "light"
     },
     "output_type": "display_data"
    }
   ],
   "source": [
    "# first just plot test scores\n",
    "# x axis - a list of the values for number of estimators\n",
    "x = n\n",
    "# two arguments to plot are the x axis values and the y axis values\n",
    "# y axis - list of test scores\n",
    "plt.plot(x, test_scores)\n",
    "# finally, to show the plots\n",
    "plt.show()"
   ]
  },
  {
   "cell_type": "code",
   "execution_count": 8,
   "metadata": {},
   "outputs": [
    {
     "data": {
      "image/png": "[encoded data removed]",
      "text/plain": [
       "<Figure size 432x288 with 1 Axes>"
      ]
     },
     "metadata": {
      "needs_background": "light"
     },
     "output_type": "display_data"
    }
   ],
   "source": [
    "# now plot train and test scores\n",
    "# x axis - a list of the values for number of estimators\n",
    "x = n\n",
    "# y axis - list of train scores\n",
    "# two arguments to plot are the x axis values and the y axis values\n",
    "plt.plot(x , test_scores)\n",
    "# do another plot, with same x axis, and on the y axis - list of test scores\n",
    "plt.plot(x,train_scores)\n",
    "# finally, to show the plots\n",
    "plt.show()"
   ]
  },
  {
   "cell_type": "markdown",
   "metadata": {},
   "source": [
    "<h2>Question 3</h2>\n",
    " Build an MLP model, and print the score on train and test. "
   ]
  },
  {
   "cell_type": "code",
   "execution_count": 9,
   "metadata": {},
   "outputs": [
    {
     "name": "stdout",
     "output_type": "stream",
     "text": [
      "The train score is : 0.760 and the test score is: 0.753 \n",
      "\n"
     ]
    },
    {
     "name": "stderr",
     "output_type": "stream",
     "text": [
      "/opt/anaconda3/lib/python3.9/site-packages/sklearn/neural_network/_multilayer_perceptron.py:549: ConvergenceWarning: lbfgs failed to converge (status=1):\n",
      "STOP: TOTAL NO. of ITERATIONS REACHED LIMIT.\n",
      "\n",
      "Increase the number of iterations (max_iter) or scale the data as shown in:\n",
      "    https://scikit-learn.org/stable/modules/preprocessing.html\n",
      "  self.n_iter_ = _check_optimize_result(\"lbfgs\", opt_res, self.max_iter)\n"
     ]
    }
   ],
   "source": [
    "from sklearn.neural_network import MLPClassifier\n",
    "\n",
    "\n",
    "nnclf = MLPClassifier(solver=\"lbfgs\",activation=\"tanh\", random_state=0).fit(X_train, y_train)\n",
    "\n",
    "\n",
    "print (\"The train score is : {:.3f} and the test score is: {:.3f} \\n\".format(nnclf.score(X_train, y_train), nnclf.score(X_test, y_test)))\n"
   ]
  },
  {
   "cell_type": "markdown",
   "metadata": {},
   "source": [
    "<h2>Question 4</h2>\n",
    "Now try mlp models with different values for the hidden layer size. Try with a single hidden layer, with sizes ranging from 1 to 100, incremented by 5. (Use the MLP parameter, hidden_layer_sizes, which takes a value as a tuple -- for a single hidden layer, just one value in parenthesis.) Save the train and test scores in two lists, and print the results, sorted by test score."
   ]
  },
  {
   "cell_type": "code",
   "execution_count": 10,
   "metadata": {},
   "outputs": [
    {
     "name": "stdout",
     "output_type": "stream",
     "text": [
      "1) For the MLP model with a single hidden layer unit size 1 the train score is: 0.734 and the test score is: 0.734\n",
      "\n",
      "2) For the MLP model with a single hidden layer unit size 6 the train score is: 0.793 and the test score is: 0.792\n",
      "\n",
      "3) For the MLP model with a single hidden layer unit size 11 the train score is: 0.788 and the test score is: 0.780\n",
      "\n",
      "4) For the MLP model with a single hidden layer unit size 16 the train score is: 0.787 and the test score is: 0.779\n",
      "\n",
      "5) For the MLP model with a single hidden layer unit size 21 the train score is: 0.793 and the test score is: 0.779\n",
      "\n",
      "6) For the MLP model with a single hidden layer unit size 26 the train score is: 0.649 and the test score is: 0.649\n",
      "\n",
      "7) For the MLP model with a single hidden layer unit size 31 the train score is: 0.788 and the test score is: 0.779\n",
      "\n",
      "8) For the MLP model with a single hidden layer unit size 36 the train score is: 0.769 and the test score is: 0.750\n",
      "\n",
      "9) For the MLP model with a single hidden layer unit size 41 the train score is: 0.797 and the test score is: 0.785\n",
      "\n",
      "10) For the MLP model with a single hidden layer unit size 46 the train score is: 0.735 and the test score is: 0.734\n",
      "\n",
      "11) For the MLP model with a single hidden layer unit size 51 the train score is: 0.796 and the test score is: 0.789\n",
      "\n",
      "12) For the MLP model with a single hidden layer unit size 56 the train score is: 0.765 and the test score is: 0.759\n",
      "\n",
      "13) For the MLP model with a single hidden layer unit size 61 the train score is: 0.781 and the test score is: 0.767\n",
      "\n",
      "14) For the MLP model with a single hidden layer unit size 66 the train score is: 0.751 and the test score is: 0.752\n",
      "\n",
      "15) For the MLP model with a single hidden layer unit size 71 the train score is: 0.732 and the test score is: 0.732\n",
      "\n",
      "16) For the MLP model with a single hidden layer unit size 76 the train score is: 0.753 and the test score is: 0.754\n",
      "\n",
      "17) For the MLP model with a single hidden layer unit size 81 the train score is: 0.793 and the test score is: 0.777\n",
      "\n",
      "18) For the MLP model with a single hidden layer unit size 86 the train score is: 0.708 and the test score is: 0.703\n",
      "\n",
      "19) For the MLP model with a single hidden layer unit size 91 the train score is: 0.640 and the test score is: 0.622\n",
      "\n",
      "20) For the MLP model with a single hidden layer unit size 96 the train score is: 0.783 and the test score is: 0.771\n",
      "\n"
     ]
    }
   ],
   "source": [
    "#This code example shows the classifier being fit to the training data using a SINGLE hidden layer with \n",
    "# three different numbers of hidden units in the layer, one unit, 10 units, and 100 units. \n",
    "\n",
    "units=list(range(1,100,5))\n",
    "mlp_train_scores=list()\n",
    "mlp_test_scores=list()\n",
    "j=0\n",
    "\n",
    "for i in units:\n",
    "    mlpclf = MLPClassifier(hidden_layer_sizes=i,random_state=0).fit(X_train,y_train)\n",
    "\n",
    "    mlp_train_scores.append(mlpclf.score(X_train,y_train))\n",
    "    mlp_test_scores.append(mlpclf.score(X_test,y_test))\n",
    "    j+=1\n",
    "\n",
    "    print(\"{}) For the MLP model with a single hidden layer unit size {} the train score is: {:.3f} and the test score is: {:.3f}\\n\".format(j, i, mlp_train_scores[j-1],mlp_test_scores[j-1]))\n",
    "\n",
    "    #Parameters to take into consideration in MLP:\n",
    "    # 1) Hidden_layer_sizes --> amount of hidden layers and amount of units of each hidden layer\n",
    "    # 2) Alpha --> Controls weight on the regularization penalty that shrinks weights to zero. Default: alpha = 0.0001. L2 regularization\n",
    "    # 3) Activation: controls the nonlinear function used for the activation function, including: “ReLu” (default), “logistic”, “tanh”.\n"
   ]
  },
  {
   "cell_type": "markdown",
   "metadata": {},
   "source": [
    "<h2>Question 5</h2>\n",
    "Make a line plot of train and test scores for the mlp models with the different hidden layer sizes."
   ]
  },
  {
   "cell_type": "code",
   "execution_count": 11,
   "metadata": {},
   "outputs": [
    {
     "data": {
      "text/plain": [
       "25"
      ]
     },
     "execution_count": 11,
     "metadata": {},
     "output_type": "execute_result"
    }
   ],
   "source": [
    "len(test_scores)"
   ]
  },
  {
   "cell_type": "code",
   "execution_count": 12,
   "metadata": {},
   "outputs": [
    {
     "data": {
      "image/png": "[encoded data removed]",
      "text/plain": [
       "<Figure size 432x288 with 1 Axes>"
      ]
     },
     "metadata": {
      "needs_background": "light"
     },
     "output_type": "display_data"
    }
   ],
   "source": [
    "# x axis - a list of the values for number of estimators\n",
    "x=units\n",
    "# y axis - list of train scores\n",
    "# two arguments to plot are the x axis values and the y axis values\n",
    "plt.plot(x,mlp_train_scores)\n",
    "# do another plot, with same x axis, and on the y axis - list of test scores\n",
    "plt.plot(x,mlp_test_scores)\n",
    "# finally need to show the plots\n",
    "\n",
    "plt.show()\n"
   ]
  },
  {
   "cell_type": "markdown",
   "metadata": {},
   "source": [
    "<h2>Question 6</h2>\n",
    "Read the HomesSoldHellerup.csv file, using read_csv (note that the separator is a semicolon and not a comma, which is the default). Display the different values for the Type feature, using value_counts. Do the same with Type of Sale."
   ]
  },
  {
   "cell_type": "code",
   "execution_count": 13,
   "metadata": {},
   "outputs": [
    {
     "data": {
      "text/html": [
       "<div>\n",
       "<style scoped>\n",
       "    .dataframe tbody tr th:only-of-type {\n",
       "        vertical-align: middle;\n",
       "    }\n",
       "\n",
       "    .dataframe tbody tr th {\n",
       "        vertical-align: top;\n",
       "    }\n",
       "\n",
       "    .dataframe thead th {\n",
       "        text-align: right;\n",
       "    }\n",
       "</style>\n",
       "<table border=\"1\" class=\"dataframe\">\n",
       "  <thead>\n",
       "    <tr style=\"text-align: right;\">\n",
       "      <th></th>\n",
       "      <th>Road name</th>\n",
       "      <th>Road Number</th>\n",
       "      <th>Type</th>\n",
       "      <th>m2</th>\n",
       "      <th>Build Year</th>\n",
       "      <th>ZipCode</th>\n",
       "      <th>City</th>\n",
       "      <th>Date of Sale</th>\n",
       "      <th>Type of Sale</th>\n",
       "      <th>Price</th>\n",
       "    </tr>\n",
       "  </thead>\n",
       "  <tbody>\n",
       "    <tr>\n",
       "      <th>0</th>\n",
       "      <td>Tuborgvej</td>\n",
       "      <td>54</td>\n",
       "      <td>Lejlighed</td>\n",
       "      <td>54</td>\n",
       "      <td>1932</td>\n",
       "      <td>2900</td>\n",
       "      <td>Hellerup</td>\n",
       "      <td>20-07-15</td>\n",
       "      <td>Alm. Salg</td>\n",
       "      <td>1700000</td>\n",
       "    </tr>\n",
       "    <tr>\n",
       "      <th>1</th>\n",
       "      <td>Tuborgvej</td>\n",
       "      <td>54</td>\n",
       "      <td>Lejlighed</td>\n",
       "      <td>87</td>\n",
       "      <td>1932</td>\n",
       "      <td>2900</td>\n",
       "      <td>Hellerup</td>\n",
       "      <td>12-05-15</td>\n",
       "      <td>Alm. Salg</td>\n",
       "      <td>2815000</td>\n",
       "    </tr>\n",
       "    <tr>\n",
       "      <th>2</th>\n",
       "      <td>Tuborgvej</td>\n",
       "      <td>54</td>\n",
       "      <td>Lejlighed</td>\n",
       "      <td>63</td>\n",
       "      <td>1932</td>\n",
       "      <td>2900</td>\n",
       "      <td>Hellerup</td>\n",
       "      <td>29-12-10</td>\n",
       "      <td>Alm. Salg</td>\n",
       "      <td>1575000</td>\n",
       "    </tr>\n",
       "    <tr>\n",
       "      <th>3</th>\n",
       "      <td>Tuborgvej</td>\n",
       "      <td>54</td>\n",
       "      <td>Lejlighed</td>\n",
       "      <td>54</td>\n",
       "      <td>1932</td>\n",
       "      <td>2900</td>\n",
       "      <td>Hellerup</td>\n",
       "      <td>10-04-12</td>\n",
       "      <td>Alm. Salg</td>\n",
       "      <td>1340000</td>\n",
       "    </tr>\n",
       "    <tr>\n",
       "      <th>4</th>\n",
       "      <td>Tuborgvej</td>\n",
       "      <td>54</td>\n",
       "      <td>Lejlighed</td>\n",
       "      <td>63</td>\n",
       "      <td>1932</td>\n",
       "      <td>2900</td>\n",
       "      <td>Hellerup</td>\n",
       "      <td>04-02-12</td>\n",
       "      <td>Alm. Salg</td>\n",
       "      <td>1435000</td>\n",
       "    </tr>\n",
       "  </tbody>\n",
       "</table>\n",
       "</div>"
      ],
      "text/plain": [
       "     Road name Road Number       Type  m2  Build Year  ZipCode      City  \\\n",
       "0  Tuborgvej            54  Lejlighed  54        1932     2900  Hellerup   \n",
       "1  Tuborgvej            54  Lejlighed  87        1932     2900  Hellerup   \n",
       "2  Tuborgvej            54  Lejlighed  63        1932     2900  Hellerup   \n",
       "3  Tuborgvej            54  Lejlighed  54        1932     2900  Hellerup   \n",
       "4  Tuborgvej            54  Lejlighed  63        1932     2900  Hellerup   \n",
       "\n",
       "  Date of Sale Type of Sale    Price  \n",
       "0     20-07-15    Alm. Salg  1700000  \n",
       "1     12-05-15    Alm. Salg  2815000  \n",
       "2     29-12-10    Alm. Salg  1575000  \n",
       "3     10-04-12    Alm. Salg  1340000  \n",
       "4     04-02-12    Alm. Salg  1435000  "
      ]
     },
     "execution_count": 13,
     "metadata": {},
     "output_type": "execute_result"
    }
   ],
   "source": [
    "# Rearrange the code for what the question is asking for\n",
    "\n",
    "df = pd.read_csv(\"4. HomesSoldHellerup.csv\", sep=\";\" ,encoding = 'utf8')\n",
    "df.head(5)\n"
   ]
  },
  {
   "attachments": {},
   "cell_type": "markdown",
   "metadata": {},
   "source": [
    "# Exploring the dataset"
   ]
  },
  {
   "cell_type": "code",
   "execution_count": 14,
   "metadata": {},
   "outputs": [
    {
     "name": "stdout",
     "output_type": "stream",
     "text": [
      "Shape of the CSV file:  (2160, 10)\n",
      "Columns are:  ['Road name', 'Road Number', 'Type', 'm2', 'Build Year', 'ZipCode', 'City', 'Date of Sale', 'Type of Sale', 'Price']\n"
     ]
    }
   ],
   "source": [
    "print(\"Shape of the CSV file: \", df.shape)\n",
    "print(\"Columns are: \", list(df.columns))\n",
    "\n"
   ]
  },
  {
   "cell_type": "code",
   "execution_count": 15,
   "metadata": {},
   "outputs": [
    {
     "name": "stdout",
     "output_type": "stream",
     "text": [
      "<class 'pandas.core.frame.DataFrame'>\n",
      "RangeIndex: 2160 entries, 0 to 2159\n",
      "Data columns (total 10 columns):\n",
      " #   Column        Non-Null Count  Dtype \n",
      "---  ------        --------------  ----- \n",
      " 0   Road name     2160 non-null   object\n",
      " 1   Road Number   2160 non-null   object\n",
      " 2   Type          2160 non-null   object\n",
      " 3   m2            2160 non-null   int64 \n",
      " 4   Build Year    2160 non-null   int64 \n",
      " 5   ZipCode       2160 non-null   int64 \n",
      " 6   City          2160 non-null   object\n",
      " 7   Date of Sale  2160 non-null   object\n",
      " 8   Type of Sale  2160 non-null   object\n",
      " 9   Price         2160 non-null   int64 \n",
      "dtypes: int64(4), object(6)\n",
      "memory usage: 168.9+ KB\n"
     ]
    }
   ],
   "source": [
    "df.info()  #This tells us that we have 2160 records in our dataset and that we don't have any NA values. "
   ]
  },
  {
   "cell_type": "code",
   "execution_count": 16,
   "metadata": {},
   "outputs": [
    {
     "data": {
      "text/plain": [
       "Lejlighed          1237\n",
       "Villa               742\n",
       "Rækkehus            174\n",
       "Stuehus               3\n",
       "Erhverv               2\n",
       "Døgninstitution       2\n",
       "Name: Type, dtype: int64"
      ]
     },
     "execution_count": 16,
     "metadata": {},
     "output_type": "execute_result"
    }
   ],
   "source": [
    "df[\"Type\"].value_counts()"
   ]
  },
  {
   "cell_type": "code",
   "execution_count": 17,
   "metadata": {},
   "outputs": [
    {
     "data": {
      "text/plain": [
       "Alm. Salg    1978\n",
       "Fam. Salg     109\n",
       "Andet          52\n",
       "Auktion        21\n",
       "Name: Type of Sale, dtype: int64"
      ]
     },
     "execution_count": 17,
     "metadata": {},
     "output_type": "execute_result"
    }
   ],
   "source": [
    "df[\"Type of Sale\"].value_counts()"
   ]
  },
  {
   "cell_type": "markdown",
   "metadata": {},
   "source": [
    "<h2>Question 7</h2>\n",
    "We assign to X a list of the features, m2 and Build Year, and the target value y is Price, as shown below. Perform a train-test split, and then create a Linear Regression model. Print the score for train and test."
   ]
  },
  {
   "cell_type": "code",
   "execution_count": 18,
   "metadata": {},
   "outputs": [],
   "source": [
    "X=df[['m2','Build Year']]\n",
    "y = df['Price']\n",
    "\n",
    "X_train, X_test, y_train, y_test = train_test_split(X,y, random_state=0)\n"
   ]
  },
  {
   "cell_type": "code",
   "execution_count": 19,
   "metadata": {},
   "outputs": [
    {
     "name": "stdout",
     "output_type": "stream",
     "text": [
      "The scores for the linear Regression model are; Train: 0.368  and Test 0.176\n"
     ]
    }
   ],
   "source": [
    "\n",
    "from sklearn.linear_model import LinearRegression\n",
    "\n",
    "linr= LinearRegression().fit(X_train,y_train)\n",
    "linr_train_score=linr.score(X_train, y_train)\n",
    "linr_test_score=linr.score(X_test,y_test)\n",
    "\n",
    "print(\"The scores for the linear Regression model are; Train: {:.3f}  and Test {:.3f}\".format(linr_train_score,linr_test_score))"
   ]
  },
  {
   "cell_type": "markdown",
   "metadata": {},
   "source": [
    "<h2>Question 8</h2>\n",
    "Add the ZipCode feature to X. Then redo the train-test split, and create a Linear Regression model. Print the score for train and test."
   ]
  },
  {
   "cell_type": "code",
   "execution_count": 20,
   "metadata": {},
   "outputs": [
    {
     "name": "stdout",
     "output_type": "stream",
     "text": [
      "The scores for the linear Regression model with an extra feature are; Train: 0.369  and Test 0.181\n"
     ]
    }
   ],
   "source": [
    "X2=df[['m2','Build Year','ZipCode']]\n",
    "y2 = df['Price']\n",
    "\n",
    "X_train, X_test, y_train, y_test = train_test_split(X2,y2, random_state=0)\n",
    "\n",
    "\n",
    "linr2= LinearRegression().fit(X_train,y_train)\n",
    "linr2_train_score=linr2.score(X_train, y_train)\n",
    "linr2_test_score=linr2.score(X_test,y_test)\n",
    "\n",
    "print(\"The scores for the linear Regression model with an extra feature are; Train: {:.3f}  and Test {:.3f}\".format(linr2_train_score,linr2_test_score))\n"
   ]
  },
  {
   "cell_type": "markdown",
   "metadata": {},
   "source": [
    "<h2> Question 9</h2>\n",
    "Build a Random Forest regressor for this data. Set random_state, with otherwise default settings, and print train and test scores."
   ]
  },
  {
   "attachments": {},
   "cell_type": "markdown",
   "metadata": {},
   "source": [
    "# Key parameters of RandomForestClassifier\n",
    "- n_estimators: number of trees to use in ensemble (default: 10)\n",
    "   \n",
    "    Should be larger for larger datasets to reduce overfitting (but uses more computation)\n",
    "    \n",
    "- max_features: has a strong effect on performance. Influences the diversity of trees in the forest.\n",
    "    \n",
    "    Default works well in practice, but adjusting may lead to some further gains. \n",
    "    \n",
    "- max_depth: controls the depth of each tree (default: None. Splits until all leaves are pure).\n",
    "- N_jobs: How many cores to use in parallel during training.\n",
    "- Choose a fixed setting for the random_state parameter if you need reproducible results."
   ]
  },
  {
   "cell_type": "code",
   "execution_count": 21,
   "metadata": {},
   "outputs": [
    {
     "name": "stdout",
     "output_type": "stream",
     "text": [
      "Score of the Random Forest Classifier with 2 features; Train: 0.656  ;  Test0.024\n",
      "Score of the Random Forest Classifier with 3 features; Train: 0.651  ;  Test0.022\n"
     ]
    }
   ],
   "source": [
    "from sklearn.ensemble import RandomForestClassifier\n",
    "\n",
    "X_train, X_test, y_train, y_test = train_test_split(X,y, random_state=0)\n",
    "rfclf= RandomForestClassifier(n_estimators=5, random_state=0).fit(X_train,y_train)\n",
    "rfclf_train_score= rfclf.score(X_train, y_train)\n",
    "rfclf_test_score=rfclf.score(X_test, y_test)\n",
    "\n",
    "print(\"Score of the Random Forest Classifier with 2 features; Train: {:.3f}  ;  Test{:.3f}\".format(rfclf_train_score,rfclf_test_score))\n",
    "\n",
    "\n",
    "X_train, X_test, y_train, y_test = train_test_split(X2,y2, random_state=0)\n",
    "rfclf2= RandomForestClassifier(n_estimators=5, random_state=0).fit(X_train,y_train)\n",
    "rfclf2_train_score= rfclf2.score(X_train, y_train)\n",
    "rfclf2_test_score=rfclf2.score(X_test, y_test)\n",
    "\n",
    "print(\"Score of the Random Forest Classifier with 3 features; Train: {:.3f}  ;  Test{:.3f}\".format(rfclf2_train_score,rfclf2_test_score))\n",
    "\n"
   ]
  }
 ],
 "metadata": {
  "kernelspec": {
   "display_name": "Python 3",
   "language": "python",
   "name": "python3"
  },
  "language_info": {
   "codemirror_mode": {
    "name": "ipython",
    "version": 3
   },
   "file_extension": ".py",
   "mimetype": "text/x-python",
   "name": "python",
   "nbconvert_exporter": "python",
   "pygments_lexer": "ipython3",
   "version": "3.9.12"
  },
  "vscode": {
   "interpreter": {
    "hash": "40d3a090f54c6569ab1632332b64b2c03c39dcf918b08424e98f38b5ae0af88f"
   }
  }
 },
 "nbformat": 4,
 "nbformat_minor": 2
}
