{
 "cells": [
  {
   "cell_type": "code",
   "execution_count": 1,
   "metadata": {},
   "outputs": [
    {
     "name": "stderr",
     "output_type": "stream",
     "text": [
      "/opt/anaconda3/lib/python3.9/site-packages/scipy/__init__.py:146: UserWarning: A NumPy version >=1.16.5 and <1.23.0 is required for this version of SciPy (detected version 1.23.4\n",
      "  warnings.warn(f\"A NumPy version >={np_minversion} and <{np_maxversion}\"\n"
     ]
    }
   ],
   "source": [
    "import pandas as pd\n",
    "import matplotlib.pyplot as plt\n",
    "from sklearn.model_selection import train_test_split\n",
    "from sklearn.ensemble import RandomForestClassifier\n",
    "from sklearn.ensemble import RandomForestRegressor\n",
    "from sklearn.neural_network import MLPClassifier\n",
    "from sklearn.linear_model import LinearRegression"
   ]
  },
  {
   "cell_type": "markdown",
   "metadata": {},
   "source": [
    "### Question 0\n",
    "Load the telco data file we used in Lab 3, and perform a train-test split. Now build a Random Forest model, and print the score on train and test. "
   ]
  },
  {
   "cell_type": "code",
   "execution_count": 20,
   "metadata": {},
   "outputs": [
    {
     "data": {
      "text/html": [
       "<div>\n",
       "<style scoped>\n",
       "    .dataframe tbody tr th:only-of-type {\n",
       "        vertical-align: middle;\n",
       "    }\n",
       "\n",
       "    .dataframe tbody tr th {\n",
       "        vertical-align: top;\n",
       "    }\n",
       "\n",
       "    .dataframe thead th {\n",
       "        text-align: right;\n",
       "    }\n",
       "</style>\n",
       "<table border=\"1\" class=\"dataframe\">\n",
       "  <thead>\n",
       "    <tr style=\"text-align: right;\">\n",
       "      <th></th>\n",
       "      <th>Unnamed: 0</th>\n",
       "      <th>tenure</th>\n",
       "      <th>Partner</th>\n",
       "      <th>Dependents</th>\n",
       "      <th>gender</th>\n",
       "      <th>PhoneService</th>\n",
       "      <th>PaperlessBilling</th>\n",
       "      <th>MonthlyCharges</th>\n",
       "      <th>TotalCharges</th>\n",
       "      <th>MultipleLines_No phone service</th>\n",
       "      <th>...</th>\n",
       "      <th>StreamingTV_No internet service</th>\n",
       "      <th>StreamingTV_Yes</th>\n",
       "      <th>StreamingMovies_No internet service</th>\n",
       "      <th>StreamingMovies_Yes</th>\n",
       "      <th>Contract_One year</th>\n",
       "      <th>Contract_Two year</th>\n",
       "      <th>PaymentMethod_Credit card (automatic)</th>\n",
       "      <th>PaymentMethod_Electronic check</th>\n",
       "      <th>PaymentMethod_Mailed check</th>\n",
       "      <th>Churn</th>\n",
       "    </tr>\n",
       "  </thead>\n",
       "  <tbody>\n",
       "    <tr>\n",
       "      <th>0</th>\n",
       "      <td>0</td>\n",
       "      <td>1</td>\n",
       "      <td>1</td>\n",
       "      <td>0</td>\n",
       "      <td>0</td>\n",
       "      <td>0</td>\n",
       "      <td>1</td>\n",
       "      <td>29.85</td>\n",
       "      <td>29.85</td>\n",
       "      <td>1</td>\n",
       "      <td>...</td>\n",
       "      <td>0</td>\n",
       "      <td>0</td>\n",
       "      <td>0</td>\n",
       "      <td>0</td>\n",
       "      <td>0</td>\n",
       "      <td>0</td>\n",
       "      <td>0</td>\n",
       "      <td>1</td>\n",
       "      <td>0</td>\n",
       "      <td>No</td>\n",
       "    </tr>\n",
       "    <tr>\n",
       "      <th>1</th>\n",
       "      <td>1</td>\n",
       "      <td>34</td>\n",
       "      <td>0</td>\n",
       "      <td>0</td>\n",
       "      <td>1</td>\n",
       "      <td>1</td>\n",
       "      <td>0</td>\n",
       "      <td>56.95</td>\n",
       "      <td>1889.50</td>\n",
       "      <td>0</td>\n",
       "      <td>...</td>\n",
       "      <td>0</td>\n",
       "      <td>0</td>\n",
       "      <td>0</td>\n",
       "      <td>0</td>\n",
       "      <td>1</td>\n",
       "      <td>0</td>\n",
       "      <td>0</td>\n",
       "      <td>0</td>\n",
       "      <td>1</td>\n",
       "      <td>No</td>\n",
       "    </tr>\n",
       "    <tr>\n",
       "      <th>2</th>\n",
       "      <td>2</td>\n",
       "      <td>2</td>\n",
       "      <td>0</td>\n",
       "      <td>0</td>\n",
       "      <td>1</td>\n",
       "      <td>1</td>\n",
       "      <td>1</td>\n",
       "      <td>53.85</td>\n",
       "      <td>108.15</td>\n",
       "      <td>0</td>\n",
       "      <td>...</td>\n",
       "      <td>0</td>\n",
       "      <td>0</td>\n",
       "      <td>0</td>\n",
       "      <td>0</td>\n",
       "      <td>0</td>\n",
       "      <td>0</td>\n",
       "      <td>0</td>\n",
       "      <td>0</td>\n",
       "      <td>1</td>\n",
       "      <td>Yes</td>\n",
       "    </tr>\n",
       "    <tr>\n",
       "      <th>3</th>\n",
       "      <td>3</td>\n",
       "      <td>45</td>\n",
       "      <td>0</td>\n",
       "      <td>0</td>\n",
       "      <td>1</td>\n",
       "      <td>0</td>\n",
       "      <td>0</td>\n",
       "      <td>42.30</td>\n",
       "      <td>1840.75</td>\n",
       "      <td>1</td>\n",
       "      <td>...</td>\n",
       "      <td>0</td>\n",
       "      <td>0</td>\n",
       "      <td>0</td>\n",
       "      <td>0</td>\n",
       "      <td>1</td>\n",
       "      <td>0</td>\n",
       "      <td>0</td>\n",
       "      <td>0</td>\n",
       "      <td>0</td>\n",
       "      <td>No</td>\n",
       "    </tr>\n",
       "    <tr>\n",
       "      <th>4</th>\n",
       "      <td>4</td>\n",
       "      <td>2</td>\n",
       "      <td>0</td>\n",
       "      <td>0</td>\n",
       "      <td>0</td>\n",
       "      <td>1</td>\n",
       "      <td>1</td>\n",
       "      <td>70.70</td>\n",
       "      <td>151.65</td>\n",
       "      <td>0</td>\n",
       "      <td>...</td>\n",
       "      <td>0</td>\n",
       "      <td>0</td>\n",
       "      <td>0</td>\n",
       "      <td>0</td>\n",
       "      <td>0</td>\n",
       "      <td>0</td>\n",
       "      <td>0</td>\n",
       "      <td>1</td>\n",
       "      <td>0</td>\n",
       "      <td>Yes</td>\n",
       "    </tr>\n",
       "  </tbody>\n",
       "</table>\n",
       "<p>5 rows × 31 columns</p>\n",
       "</div>"
      ],
      "text/plain": [
       "   Unnamed: 0  tenure  Partner  Dependents  gender  PhoneService  \\\n",
       "0           0       1        1           0       0             0   \n",
       "1           1      34        0           0       1             1   \n",
       "2           2       2        0           0       1             1   \n",
       "3           3      45        0           0       1             0   \n",
       "4           4       2        0           0       0             1   \n",
       "\n",
       "   PaperlessBilling  MonthlyCharges  TotalCharges  \\\n",
       "0                 1           29.85         29.85   \n",
       "1                 0           56.95       1889.50   \n",
       "2                 1           53.85        108.15   \n",
       "3                 0           42.30       1840.75   \n",
       "4                 1           70.70        151.65   \n",
       "\n",
       "   MultipleLines_No phone service  ...  StreamingTV_No internet service  \\\n",
       "0                               1  ...                                0   \n",
       "1                               0  ...                                0   \n",
       "2                               0  ...                                0   \n",
       "3                               1  ...                                0   \n",
       "4                               0  ...                                0   \n",
       "\n",
       "   StreamingTV_Yes  StreamingMovies_No internet service  StreamingMovies_Yes  \\\n",
       "0                0                                    0                    0   \n",
       "1                0                                    0                    0   \n",
       "2                0                                    0                    0   \n",
       "3                0                                    0                    0   \n",
       "4                0                                    0                    0   \n",
       "\n",
       "   Contract_One year  Contract_Two year  \\\n",
       "0                  0                  0   \n",
       "1                  1                  0   \n",
       "2                  0                  0   \n",
       "3                  1                  0   \n",
       "4                  0                  0   \n",
       "\n",
       "   PaymentMethod_Credit card (automatic)  PaymentMethod_Electronic check  \\\n",
       "0                                      0                               1   \n",
       "1                                      0                               0   \n",
       "2                                      0                               0   \n",
       "3                                      0                               0   \n",
       "4                                      0                               1   \n",
       "\n",
       "   PaymentMethod_Mailed check  Churn  \n",
       "0                           0     No  \n",
       "1                           1     No  \n",
       "2                           1    Yes  \n",
       "3                           0     No  \n",
       "4                           0    Yes  \n",
       "\n",
       "[5 rows x 31 columns]"
      ]
     },
     "execution_count": 20,
     "metadata": {},
     "output_type": "execute_result"
    }
   ],
   "source": [
    "df=pd.read_csv(\"3. telco.csv\")\n",
    "\n",
    "df.head(5)\n",
    "\n"
   ]
  },
  {
   "cell_type": "code",
   "execution_count": 21,
   "metadata": {},
   "outputs": [
    {
     "data": {
      "text/plain": [
       "(7032, 31)"
      ]
     },
     "execution_count": 21,
     "metadata": {},
     "output_type": "execute_result"
    }
   ],
   "source": [
    "df.shape"
   ]
  },
  {
   "cell_type": "code",
   "execution_count": 22,
   "metadata": {},
   "outputs": [
    {
     "name": "stdout",
     "output_type": "stream",
     "text": [
      "shape of X: (7032, 30)\n",
      "\n",
      "shape of y: (7032,)\n"
     ]
    }
   ],
   "source": [
    "X = df.drop([\"Churn\"], axis=1)  #Axis=1 = the whole column --> Sometimes we want to drop more than one columns\n",
    "y = df['Churn']\n",
    "\n",
    "X_train, X_test, y_train, y_test = train_test_split( X, y, stratify=y, random_state=0)\n",
    "\n",
    "print(\"shape of X:\", X.shape)\n",
    "print(\"\\nshape of y:\", y.shape)"
   ]
  },
  {
   "cell_type": "markdown",
   "metadata": {},
   "source": [
    "<h2>Question 1</h2>\n",
    "Build random forest models with the number of estimators ranging from 20 to 500. Write a loop where n_estimators increases 20 at each iteration, and save the train and test scores in a list. Print the results sorted by test accuracy. <i>Hint: before the loop, create two empty lists for train_scores and test_scores. With each iteration, you can use the append method to add the current scores to the train and test lists.</i>"
   ]
  },
  {
   "cell_type": "code",
   "execution_count": 58,
   "metadata": {},
   "outputs": [
    {
     "name": "stdout",
     "output_type": "stream",
     "text": [
      "1)  For n_estimators = 20, the train score is : 0.996 and the test score is: 0.782 \n",
      "\n",
      "2)  For n_estimators = 40, the train score is : 1.000 and the test score is: 0.780 \n",
      "\n",
      "3)  For n_estimators = 60, the train score is : 1.000 and the test score is: 0.783 \n",
      "\n",
      "4)  For n_estimators = 80, the train score is : 1.000 and the test score is: 0.790 \n",
      "\n",
      "5)  For n_estimators = 100, the train score is : 1.000 and the test score is: 0.784 \n",
      "\n",
      "6)  For n_estimators = 120, the train score is : 1.000 and the test score is: 0.787 \n",
      "\n",
      "7)  For n_estimators = 140, the train score is : 1.000 and the test score is: 0.789 \n",
      "\n",
      "8)  For n_estimators = 160, the train score is : 1.000 and the test score is: 0.786 \n",
      "\n",
      "9)  For n_estimators = 180, the train score is : 1.000 and the test score is: 0.787 \n",
      "\n",
      "10)  For n_estimators = 200, the train score is : 1.000 and the test score is: 0.790 \n",
      "\n",
      "11)  For n_estimators = 220, the train score is : 1.000 and the test score is: 0.791 \n",
      "\n",
      "12)  For n_estimators = 240, the train score is : 1.000 and the test score is: 0.787 \n",
      "\n",
      "13)  For n_estimators = 260, the train score is : 1.000 and the test score is: 0.788 \n",
      "\n",
      "14)  For n_estimators = 280, the train score is : 1.000 and the test score is: 0.792 \n",
      "\n",
      "15)  For n_estimators = 300, the train score is : 1.000 and the test score is: 0.792 \n",
      "\n",
      "16)  For n_estimators = 320, the train score is : 1.000 and the test score is: 0.788 \n",
      "\n",
      "17)  For n_estimators = 340, the train score is : 1.000 and the test score is: 0.788 \n",
      "\n",
      "18)  For n_estimators = 360, the train score is : 1.000 and the test score is: 0.788 \n",
      "\n",
      "19)  For n_estimators = 380, the train score is : 1.000 and the test score is: 0.791 \n",
      "\n",
      "20)  For n_estimators = 400, the train score is : 1.000 and the test score is: 0.790 \n",
      "\n",
      "21)  For n_estimators = 420, the train score is : 1.000 and the test score is: 0.791 \n",
      "\n",
      "22)  For n_estimators = 440, the train score is : 1.000 and the test score is: 0.791 \n",
      "\n",
      "23)  For n_estimators = 460, the train score is : 1.000 and the test score is: 0.790 \n",
      "\n",
      "24)  For n_estimators = 480, the train score is : 1.000 and the test score is: 0.787 \n",
      "\n",
      "25)  For n_estimators = 500, the train score is : 1.000 and the test score is: 0.787 \n",
      "\n"
     ]
    }
   ],
   "source": [
    "\n",
    "from sklearn.ensemble import RandomForestClassifier\n",
    "\n",
    "\n",
    "\n",
    "n=list(range(20,501,20))\n",
    "\n",
    "\n",
    "\n",
    "train_scores=[]\n",
    "test_scores=[]\n",
    "j=0\n",
    "for i in n:\n",
    "    \n",
    "    clf=RandomForestClassifier(n_estimators=i,random_state=0).fit(X_train,y_train)\n",
    "    train_scores.append(clf.score(X_train,y_train))\n",
    "    test_scores.append(clf.score(X_test,y_test))\n",
    "    print (\"{})  For n_estimators = {}, the train score is : {:.3f} and the test score is: {:.3f} \\n\".format(j+1 ,n[j], train_scores[j], test_scores[j]))\n",
    "    j+=1\n",
    "\n",
    "\n"
   ]
  },
  {
   "cell_type": "code",
   "execution_count": 61,
   "metadata": {},
   "outputs": [
    {
     "data": {
      "text/plain": [
       "[0.7821387940841866,\n",
       " 0.7798634812286689,\n",
       " 0.7832764505119454,\n",
       " 0.7895335608646189,\n",
       " 0.7844141069397043,\n",
       " 0.7866894197952219,\n",
       " 0.7889647326507395,\n",
       " 0.7861205915813424,\n",
       " 0.7872582480091013,\n",
       " 0.7901023890784983,\n",
       " 0.7906712172923777,\n",
       " 0.7872582480091013,\n",
       " 0.78839590443686,\n",
       " 0.7918088737201365,\n",
       " 0.7918088737201365,\n",
       " 0.78839590443686,\n",
       " 0.7878270762229806,\n",
       " 0.78839590443686,\n",
       " 0.7912400455062572,\n",
       " 0.7901023890784983,\n",
       " 0.7906712172923777,\n",
       " 0.7912400455062572,\n",
       " 0.7895335608646189,\n",
       " 0.7872582480091013,\n",
       " 0.7866894197952219]"
      ]
     },
     "execution_count": 61,
     "metadata": {},
     "output_type": "execute_result"
    }
   ],
   "source": [
    "test_scores"
   ]
  },
  {
   "cell_type": "markdown",
   "metadata": {},
   "source": [
    "<h2> Question 2</h2>\n",
    "\n",
    "Create a line plot of train and test scores for each value of the number of estimators, by completing the following code. "
   ]
  },
  {
   "cell_type": "code",
   "execution_count": 63,
   "metadata": {},
   "outputs": [
    {
     "data": {
      "image/png": "[encoded data removed]",
      "text/plain": [
       "<Figure size 432x288 with 1 Axes>"
      ]
     },
     "metadata": {
      "needs_background": "light"
     },
     "output_type": "display_data"
    }
   ],
   "source": [
    "# first just plot test scores\n",
    "# x axis - a list of the values for number of estimators\n",
    "x = n\n",
    "# two arguments to plot are the x axis values and the y axis values\n",
    "# y axis - list of test scores\n",
    "plt.plot(x, test_scores)\n",
    "# finally, to show the plots\n",
    "plt.show()"
   ]
  },
  {
   "cell_type": "code",
   "execution_count": 62,
   "metadata": {},
   "outputs": [
    {
     "data": {
      "image/png": "[encoded data removed]",
      "text/plain": [
       "<Figure size 432x288 with 1 Axes>"
      ]
     },
     "metadata": {
      "needs_background": "light"
     },
     "output_type": "display_data"
    }
   ],
   "source": [
    "# now plot train and test scores\n",
    "# x axis - a list of the values for number of estimators\n",
    "x = n\n",
    "# y axis - list of train scores\n",
    "# two arguments to plot are the x axis values and the y axis values\n",
    "plt.plot(x , test_scores)\n",
    "# do another plot, with same x axis, and on the y axis - list of test scores\n",
    "plt.plot(x,train_scores)\n",
    "# finally, to show the plots\n",
    "plt.show()"
   ]
  },
  {
   "cell_type": "markdown",
   "metadata": {},
   "source": [
    "<h2>Question 3</h2>\n",
    " Build an MLP model, and print the score on train and test. "
   ]
  },
  {
   "cell_type": "code",
   "execution_count": null,
   "metadata": {},
   "outputs": [],
   "source": []
  },
  {
   "cell_type": "markdown",
   "metadata": {},
   "source": [
    "<h2>Question 4</h2>\n",
    "Now try mlp models with different values for the hidden layer size. Try with a single hidden layer, with sizes ranging from 1 to 100, incremented by 5. (Use the MLP parameter, hidden_layer_sizes, which takes a value as a tuple -- for a single hidden layer, just one value in parenthesis.) Save the train and test scores in two lists, and print the results, sorted by test score."
   ]
  },
  {
   "cell_type": "code",
   "execution_count": null,
   "metadata": {},
   "outputs": [],
   "source": []
  },
  {
   "cell_type": "markdown",
   "metadata": {},
   "source": [
    "<h2>Question 5</h2>\n",
    "Make a line plot of train and test scores for the mlp models with the different hidden layer sizes."
   ]
  },
  {
   "cell_type": "code",
   "execution_count": null,
   "metadata": {},
   "outputs": [],
   "source": [
    "# x axis - a list of the values for number of estimators\n",
    "____\n",
    "# y axis - list of train scores\n",
    "# two arguments to plot are the x axis values and the y axis values\n",
    "____\n",
    "# do another plot, with same x axis, and on the y axis - list of test scores\n",
    "____\n",
    "# finally need to show the plots\n",
    "____"
   ]
  },
  {
   "cell_type": "markdown",
   "metadata": {},
   "source": [
    "<h2>Question 6</h2>\n",
    "Read the HomesSoldHellerup.csv file, using read_csv (note that the separator is a semicolon and not a comma, which is the default). Display the different values for the Type feature, using value_counts. Do the same with Type of Sale."
   ]
  },
  {
   "cell_type": "code",
   "execution_count": null,
   "metadata": {},
   "outputs": [],
   "source": [
    "# Rearrange the code for what the question is asking for\n",
    "\n",
    "df = pd.read_csv(\"4. HomesSoldHellerup.csv\", sep=\";\" ,encoding = 'utf8')\n",
    "df.head()\n"
   ]
  },
  {
   "cell_type": "code",
   "execution_count": null,
   "metadata": {},
   "outputs": [],
   "source": []
  },
  {
   "cell_type": "markdown",
   "metadata": {},
   "source": [
    "<h2>Question 7</h2>\n",
    "We assign to X a list of the features, m2 and Build Year, and the target value y is Price, as shown below. Perform a train-test split, and then create a Linear Regression model. Print the score for train and test."
   ]
  },
  {
   "cell_type": "code",
   "execution_count": 56,
   "metadata": {},
   "outputs": [],
   "source": [
    "X=df[['m2','Build Year']]\n",
    "y = df['Price']\n"
   ]
  },
  {
   "cell_type": "code",
   "execution_count": null,
   "metadata": {},
   "outputs": [],
   "source": [
    "\n"
   ]
  },
  {
   "cell_type": "markdown",
   "metadata": {},
   "source": [
    "<h2>Question 8</h2>\n",
    "Add the ZipCode feature to X. Then redo the train-test split, and create a Linear Regression model. Print the score for train and test."
   ]
  },
  {
   "cell_type": "code",
   "execution_count": null,
   "metadata": {},
   "outputs": [],
   "source": []
  },
  {
   "cell_type": "markdown",
   "metadata": {},
   "source": [
    "<h2> Question 9</h2>\n",
    "Build a Random Forest regressor for this data. Set random_state, with otherwise default settings, and print train and test scores."
   ]
  },
  {
   "cell_type": "code",
   "execution_count": null,
   "metadata": {},
   "outputs": [],
   "source": []
  }
 ],
 "metadata": {
  "kernelspec": {
   "display_name": "Python 3",
   "language": "python",
   "name": "python3"
  },
  "language_info": {
   "codemirror_mode": {
    "name": "ipython",
    "version": 3
   },
   "file_extension": ".py",
   "mimetype": "text/x-python",
   "name": "python",
   "nbconvert_exporter": "python",
   "pygments_lexer": "ipython3",
   "version": "3.9.12"
  },
  "vscode": {
   "interpreter": {
    "hash": "40d3a090f54c6569ab1632332b64b2c03c39dcf918b08424e98f38b5ae0af88f"
   }
  }
 },
 "nbformat": 4,
 "nbformat_minor": 2
}
