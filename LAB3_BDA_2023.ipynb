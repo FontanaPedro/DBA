{
 "cells": [
  {
   "cell_type": "code",
   "execution_count": 138,
   "metadata": {},
   "outputs": [],
   "source": [
    "import numpy as np\n",
    "import pandas as pd\n",
    "from sklearn.model_selection import train_test_split\n",
    "from sklearn.linear_model import LinearRegression\n",
    "from sklearn.linear_model import Ridge\n",
    "from sklearn.tree import DecisionTreeRegressor\n",
    "from sklearn.tree import DecisionTreeClassifier\n",
    "from sklearn.ensemble import RandomForestRegressor\n",
    "from sklearn.linear_model import LogisticRegression\n",
    "from matplotlib import pyplot as plt\n",
    "\n",
    "\n"
   ]
  },
  {
   "cell_type": "markdown",
   "metadata": {},
   "source": [
    "# Regression"
   ]
  },
  {
   "cell_type": "markdown",
   "metadata": {},
   "source": [
    "<h1>Question 1</h1>\n",
    "Write a function, <i>coeffReport</i> that takes a linear model as its argument, and prints a \"coefficient report\", as we did in the previous lab. That is, print the feature names and coefficients with the 3 highest values, the 3 lowest values, and the 3 values closest to zero. Below is the beginning of the function definition -- you should complete this.\n"
   ]
  },
  {
   "cell_type": "code",
   "execution_count": 88,
   "metadata": {},
   "outputs": [],
   "source": [
    "def coeffReport(linearModel, featureNames):\n",
    "\n",
    "    coefs=linearModel.coef_ \n",
    "\n",
    "    sorted_coef=list(zip(list(featureNames),coefs))\n",
    "    # I create a variable that list the zipped 2 list of the features with its respective coeficients \n",
    "\n",
    "    sorted_coef_value=sorted(list(zip(list(featureNames,coef[0]))), key=lambda x:x[1],reverse=True)\n",
    "    \n",
    "    sorted_coef_abs=sorted(list(zip(list(featureNames,coefs))), key=lambda x:abs(x[1]))\n",
    "\n",
    "    most_informative_coef=sorted_coef_value[:3]\n",
    "    least_informative_coef=sorted_coef_value[-3:]\n",
    "    abs_informative_coef=sorted_coef_abs[:3]\n",
    "\n",
    "    print(\"\\nLowest Coefficients \")\n",
    "    print(least_informative_coef)\n",
    "\n",
    "    print(\"\\nHighest Coefficients \")\n",
    "    print(most_informative_coef)\n",
    "\n",
    "    print(\"\\nCoefficients Closest to Zero \")\n",
    "    print(abs_informative_coef)\n",
    "\n",
    "\n",
    "\n",
    "\n",
    "\n"
   ]
  },
  {
   "cell_type": "code",
   "execution_count": 89,
   "metadata": {},
   "outputs": [],
   "source": [
    "def coeffReport1(linearModel, featureNames):\n",
    "\n",
    "    coefs=linearModel.coef_ \n",
    "\n",
    "    \"\"\" The function is taking the coefficient of each feauture, therefore, understanding how important each feature is for the model\n",
    "    and then printing the highst, lowest and the closest to zero\"\"\"\n",
    "\n",
    "    sorted_coef=list(zip(list(featureNames),coefs)) #I didnt use it afterwards\n",
    "    \n",
    "    # I create a variable that list the zipped 2 list of the features with its respective coeficients \n",
    "    # I use list(feautreNames) in order to create a list of the feature name\n",
    "    # I use Reverse=True so it sorted from the from smallest to highest\n",
    "\n",
    "    sorted_coef_value=sorted(list(zip(list(featureNames),coefs)), key=lambda x:x[1], reverse=True)\n",
    "    \n",
    "    sorted_coef_abs=sorted(list(zip(list(featureNames),coefs)), key=lambda x:abs(x[1]), reverse=True )\n",
    "\n",
    "\n",
    "    # Like this I am just going to the last 3 coefs and printing them like a list\n",
    "    print(\"\\nLowest Coefficients \")\n",
    "    for i in sorted_coef_value[-3:]:\n",
    "\n",
    "        print(i)\n",
    "\n",
    "\n",
    "    # Like this I am just going to the first 3 coefs and printing them like a list\n",
    "\n",
    "    print(\"\\nHighst Coefficients \")\n",
    "    for i in sorted_coef_value[:3]:\n",
    "\n",
    "        print(i)\n",
    "\n",
    "\n",
    "    # Like this I am just going to the last 3 coefs and printing them like a list\n",
    "\n",
    "    print(\"\\nCoefficients Closest to Zero \")\n",
    "    for i in sorted_coef_abs[-3:]:\n",
    "\n",
    "        print(i)\n",
    "\n",
    "    \n"
   ]
  },
  {
   "cell_type": "code",
   "execution_count": 90,
   "metadata": {},
   "outputs": [],
   "source": [
    "from sklearn.datasets import fetch_california_housing\n",
    "\n",
    "## the code below about ssl is because of a possible error in data access\n",
    "## if you get the error you should uncomment it\n",
    "#import ssl\n",
    "\n",
    "#try:\n",
    "#    _create_unverified_https_context = ssl._create_unverified_context\n",
    "#except AttributeError:\n",
    "#    pass\n",
    "#else:\n",
    "#    ssl._create_default_https_context = _create_unverified_https_context\n",
    "\n",
    "\n",
    "\n",
    "housing = fetch_california_housing()\n"
   ]
  },
  {
   "cell_type": "markdown",
   "metadata": {},
   "source": [
    "<h1>Question 2</h1>\n",
    "Construct a LinearRegression model for the housing data. Report on the train and test score. Use the <i>coeffReport</i> function to report on the feature coefficients."
   ]
  },
  {
   "cell_type": "code",
   "execution_count": 91,
   "metadata": {},
   "outputs": [
    {
     "name": "stdout",
     "output_type": "stream",
     "text": [
      "HERE I AM CHECKING THE INFO THAT IS INSIDE THE DATASET   \n",
      "\n",
      "\n",
      "Housing.keys():\n",
      " dict_keys(['data', 'target', 'frame', 'target_names', 'feature_names', 'DESCR'])\n",
      "\n",
      "Shape of Housing dataset (20640, 8)\n"
     ]
    }
   ],
   "source": [
    "print(\"HERE I AM CHECKING THE INFO THAT IS INSIDE THE DATASET   \\n\\n\")\n",
    "\n",
    "print(\"Housing.keys():\\n\", housing.keys())\n",
    "print(\"\\nShape of Housing dataset\", housing.data.shape)\n",
    "\n",
    "#The keys will show the different type of information of the DataSet --> housing.keys()\n",
    "#For the shape you always print \"name of the dataset\".data because is where sklearn save the actual information of the DataSet"
   ]
  },
  {
   "cell_type": "code",
   "execution_count": 92,
   "metadata": {},
   "outputs": [
    {
     "name": "stdout",
     "output_type": "stream",
     "text": [
      "Accuracy of the Linear Regression, on the training set: 0.611\n",
      "Accuracy of the Linear Regression, on the test set: 0.591\n",
      "\n",
      "Lowest Coefficients \n",
      "('AveRooms', -0.10331117273737225)\n",
      "('Latitude', -0.41735328390925386)\n",
      "('Longitude', -0.43061446208860105)\n",
      "\n",
      "Highst Coefficients \n",
      "('AveBedrms', 0.6167301519277008)\n",
      "('MedInc', 0.4390910418774257)\n",
      "('HouseAge', 0.009598646648347135)\n",
      "\n",
      "Coefficients Closest to Zero \n",
      "('HouseAge', 0.009598646648347135)\n",
      "('AveOccup', -0.00448838256416237)\n",
      "('Population', -7.632751973627935e-06)\n"
     ]
    }
   ],
   "source": [
    "#Stratify is making sure that the split is than 75%/25% by label as well and specifying the label column\n",
    "\n",
    "\n",
    "X_train, X_test, y_train, y_test = train_test_split(housing.data , housing.target, random_state=0)\n",
    "\n",
    "Linear_reg= LinearRegression().fit(X_train, y_train)\n",
    "\n",
    "print(\"Accuracy of the Linear Regression, on the training set: {:.3f}\".format(Linear_reg.score(X_train, y_train)))\n",
    "print(\"Accuracy of the Linear Regression, on the test set: {:.3f}\".format(Linear_reg.score(X_test, y_test)))\n",
    "\n",
    "\n",
    "\n",
    "coeffReport1(Linear_reg,housing.feature_names)"
   ]
  },
  {
   "cell_type": "markdown",
   "metadata": {},
   "source": [
    "<h1>Question 3</h1>\n",
    "Construct a Ridge model for this data. Report on the train and test score, and use the <i>coeffReport</i> function to report on the feature coefficients."
   ]
  },
  {
   "cell_type": "code",
   "execution_count": 98,
   "metadata": {},
   "outputs": [
    {
     "name": "stdout",
     "output_type": "stream",
     "text": [
      "Accuracy of the Ridge model, on the training set: 0.611\n",
      "Accuracy of the Ridge model, on the test set: 0.591\n",
      "\n",
      "Lowest Coefficients \n",
      "('AveRooms', -0.10331117273737225)\n",
      "('Latitude', -0.41735328390925386)\n",
      "('Longitude', -0.43061446208860105)\n",
      "\n",
      "Highst Coefficients \n",
      "('AveBedrms', 0.6167301519277008)\n",
      "('MedInc', 0.4390910418774257)\n",
      "('HouseAge', 0.009598646648347135)\n",
      "\n",
      "Coefficients Closest to Zero \n",
      "('HouseAge', 0.009598646648347135)\n",
      "('AveOccup', -0.00448838256416237)\n",
      "('Population', -7.632751973627935e-06)\n"
     ]
    }
   ],
   "source": [
    "\n",
    "ridge= Ridge().fit(X_train, y_train)\n",
    "\n",
    "print(\"Accuracy of the Ridge model, on the training set: {:.3f}\".format(Linear_reg.score(X_train, y_train)))\n",
    "print(\"Accuracy of the Ridge model, on the test set: {:.3f}\".format(Linear_reg.score(X_test, y_test)))\n",
    "\n",
    "\n",
    "coeffReport1(Linear_reg, housing.feature_names )\n",
    "\n"
   ]
  },
  {
   "cell_type": "markdown",
   "metadata": {},
   "source": [
    "<h1>Question 4</h1>\n",
    "Create a loop to test many different values for the <i>alpha</i> parameter for the Ridge model. Create a list of results, with the test score, train score, and alpha value. Print the list, sorted by test score.\n"
   ]
  },
  {
   "cell_type": "code",
   "execution_count": 101,
   "metadata": {},
   "outputs": [
    {
     "name": "stdout",
     "output_type": "stream",
     "text": [
      "     Test     Train   Alpha    \n",
      "   0.5912    0.6110    0.00\n",
      "   0.5912    0.6110    0.01\n",
      "   0.5912    0.6110    0.10\n",
      "   0.5912    0.6110    0.30\n",
      "   0.5912    0.6110    1.00\n",
      "   0.5902    0.6107  100.00\n",
      "   0.5891    0.6100  200.00\n",
      "   0.5881    0.6093  300.00\n",
      "   0.5814    0.6039 1000.00\n",
      "   0.5663    0.5897 3000.00\n"
     ]
    }
   ],
   "source": [
    "resList = []\n",
    "for alpha in [0.001,0.01, 0.1, 0.3, 1, 100, 200, 300, 1000, 3000]:\n",
    "    clf = Ridge(alpha=alpha, random_state=0).fit(X_train, y_train)\n",
    "\n",
    "    res = (clf.score(X_test, y_test), clf.score(X_train, y_train), alpha)\n",
    "    resList.append(res)\n",
    "   \n",
    "resListSrt = sorted (resList,\n",
    "                key = lambda e:e[0], reverse=True)\n",
    "\n",
    "print(\"     Test    \", \"Train  \", \"Alpha    \")\n",
    "for r in resListSrt:\n",
    "    print(\"{:9.4f} {:9.4f} {:7.2f}\".format (r[0],r[1],r[2]))\n"
   ]
  },
  {
   "cell_type": "markdown",
   "metadata": {},
   "source": [
    "<h1>Question 5</h1>\n",
    "Create a DecisionTreeRegressor model and fit it to this data. Print the score on train and test data.\n"
   ]
  },
  {
   "cell_type": "code",
   "execution_count": 104,
   "metadata": {},
   "outputs": [
    {
     "name": "stdout",
     "output_type": "stream",
     "text": [
      "1.0\n",
      "0.5836931946107546\n"
     ]
    }
   ],
   "source": [
    "DT = DecisionTreeRegressor().fit(X_train, y_train)\n",
    "print(dt.score(X_train, y_train))\n",
    "print(dt.score(X_test, y_test))\n",
    "\n"
   ]
  },
  {
   "cell_type": "markdown",
   "metadata": {},
   "source": [
    "<h1>Question 6</h1>\n",
    "Create a RandomForestRegressor model and fit it to this data. Print the score on train and test data.\n"
   ]
  },
  {
   "cell_type": "code",
   "execution_count": null,
   "metadata": {},
   "outputs": [],
   "source": [
    "\n",
    "rf = RandomForestRegressor(random_state=0).fit(X_train, y_train)\n",
    "print(rf.score(X_train, y_train))\n",
    "print(rf.score(X_test, y_test))\n",
    "\n"
   ]
  },
  {
   "cell_type": "markdown",
   "metadata": {},
   "source": [
    "# Classification"
   ]
  },
  {
   "cell_type": "markdown",
   "metadata": {},
   "source": [
    "## Question 7\n",
    "Read the file, telco.csv, and assign all the columns to X, except the column 'Churn', which you assign to y. Then perform a train-test split, setting the parameter: stratify=y."
   ]
  },
  {
   "cell_type": "code",
   "execution_count": 122,
   "metadata": {},
   "outputs": [
    {
     "data": {
      "text/html": [
       "<div>\n",
       "<style scoped>\n",
       "    .dataframe tbody tr th:only-of-type {\n",
       "        vertical-align: middle;\n",
       "    }\n",
       "\n",
       "    .dataframe tbody tr th {\n",
       "        vertical-align: top;\n",
       "    }\n",
       "\n",
       "    .dataframe thead th {\n",
       "        text-align: right;\n",
       "    }\n",
       "</style>\n",
       "<table border=\"1\" class=\"dataframe\">\n",
       "  <thead>\n",
       "    <tr style=\"text-align: right;\">\n",
       "      <th></th>\n",
       "      <th>Unnamed: 0</th>\n",
       "      <th>tenure</th>\n",
       "      <th>Partner</th>\n",
       "      <th>Dependents</th>\n",
       "      <th>gender</th>\n",
       "      <th>PhoneService</th>\n",
       "      <th>PaperlessBilling</th>\n",
       "      <th>MonthlyCharges</th>\n",
       "      <th>TotalCharges</th>\n",
       "      <th>MultipleLines_No phone service</th>\n",
       "      <th>...</th>\n",
       "      <th>StreamingTV_No internet service</th>\n",
       "      <th>StreamingTV_Yes</th>\n",
       "      <th>StreamingMovies_No internet service</th>\n",
       "      <th>StreamingMovies_Yes</th>\n",
       "      <th>Contract_One year</th>\n",
       "      <th>Contract_Two year</th>\n",
       "      <th>PaymentMethod_Credit card (automatic)</th>\n",
       "      <th>PaymentMethod_Electronic check</th>\n",
       "      <th>PaymentMethod_Mailed check</th>\n",
       "      <th>Churn</th>\n",
       "    </tr>\n",
       "  </thead>\n",
       "  <tbody>\n",
       "    <tr>\n",
       "      <th>0</th>\n",
       "      <td>0</td>\n",
       "      <td>1</td>\n",
       "      <td>1</td>\n",
       "      <td>0</td>\n",
       "      <td>0</td>\n",
       "      <td>0</td>\n",
       "      <td>1</td>\n",
       "      <td>29.85</td>\n",
       "      <td>29.85</td>\n",
       "      <td>1</td>\n",
       "      <td>...</td>\n",
       "      <td>0</td>\n",
       "      <td>0</td>\n",
       "      <td>0</td>\n",
       "      <td>0</td>\n",
       "      <td>0</td>\n",
       "      <td>0</td>\n",
       "      <td>0</td>\n",
       "      <td>1</td>\n",
       "      <td>0</td>\n",
       "      <td>No</td>\n",
       "    </tr>\n",
       "    <tr>\n",
       "      <th>1</th>\n",
       "      <td>1</td>\n",
       "      <td>34</td>\n",
       "      <td>0</td>\n",
       "      <td>0</td>\n",
       "      <td>1</td>\n",
       "      <td>1</td>\n",
       "      <td>0</td>\n",
       "      <td>56.95</td>\n",
       "      <td>1889.50</td>\n",
       "      <td>0</td>\n",
       "      <td>...</td>\n",
       "      <td>0</td>\n",
       "      <td>0</td>\n",
       "      <td>0</td>\n",
       "      <td>0</td>\n",
       "      <td>1</td>\n",
       "      <td>0</td>\n",
       "      <td>0</td>\n",
       "      <td>0</td>\n",
       "      <td>1</td>\n",
       "      <td>No</td>\n",
       "    </tr>\n",
       "    <tr>\n",
       "      <th>2</th>\n",
       "      <td>2</td>\n",
       "      <td>2</td>\n",
       "      <td>0</td>\n",
       "      <td>0</td>\n",
       "      <td>1</td>\n",
       "      <td>1</td>\n",
       "      <td>1</td>\n",
       "      <td>53.85</td>\n",
       "      <td>108.15</td>\n",
       "      <td>0</td>\n",
       "      <td>...</td>\n",
       "      <td>0</td>\n",
       "      <td>0</td>\n",
       "      <td>0</td>\n",
       "      <td>0</td>\n",
       "      <td>0</td>\n",
       "      <td>0</td>\n",
       "      <td>0</td>\n",
       "      <td>0</td>\n",
       "      <td>1</td>\n",
       "      <td>Yes</td>\n",
       "    </tr>\n",
       "    <tr>\n",
       "      <th>3</th>\n",
       "      <td>3</td>\n",
       "      <td>45</td>\n",
       "      <td>0</td>\n",
       "      <td>0</td>\n",
       "      <td>1</td>\n",
       "      <td>0</td>\n",
       "      <td>0</td>\n",
       "      <td>42.30</td>\n",
       "      <td>1840.75</td>\n",
       "      <td>1</td>\n",
       "      <td>...</td>\n",
       "      <td>0</td>\n",
       "      <td>0</td>\n",
       "      <td>0</td>\n",
       "      <td>0</td>\n",
       "      <td>1</td>\n",
       "      <td>0</td>\n",
       "      <td>0</td>\n",
       "      <td>0</td>\n",
       "      <td>0</td>\n",
       "      <td>No</td>\n",
       "    </tr>\n",
       "    <tr>\n",
       "      <th>4</th>\n",
       "      <td>4</td>\n",
       "      <td>2</td>\n",
       "      <td>0</td>\n",
       "      <td>0</td>\n",
       "      <td>0</td>\n",
       "      <td>1</td>\n",
       "      <td>1</td>\n",
       "      <td>70.70</td>\n",
       "      <td>151.65</td>\n",
       "      <td>0</td>\n",
       "      <td>...</td>\n",
       "      <td>0</td>\n",
       "      <td>0</td>\n",
       "      <td>0</td>\n",
       "      <td>0</td>\n",
       "      <td>0</td>\n",
       "      <td>0</td>\n",
       "      <td>0</td>\n",
       "      <td>1</td>\n",
       "      <td>0</td>\n",
       "      <td>Yes</td>\n",
       "    </tr>\n",
       "  </tbody>\n",
       "</table>\n",
       "<p>5 rows × 31 columns</p>\n",
       "</div>"
      ],
      "text/plain": [
       "   Unnamed: 0  tenure  Partner  Dependents  gender  PhoneService  \\\n",
       "0           0       1        1           0       0             0   \n",
       "1           1      34        0           0       1             1   \n",
       "2           2       2        0           0       1             1   \n",
       "3           3      45        0           0       1             0   \n",
       "4           4       2        0           0       0             1   \n",
       "\n",
       "   PaperlessBilling  MonthlyCharges  TotalCharges  \\\n",
       "0                 1           29.85         29.85   \n",
       "1                 0           56.95       1889.50   \n",
       "2                 1           53.85        108.15   \n",
       "3                 0           42.30       1840.75   \n",
       "4                 1           70.70        151.65   \n",
       "\n",
       "   MultipleLines_No phone service  ...  StreamingTV_No internet service  \\\n",
       "0                               1  ...                                0   \n",
       "1                               0  ...                                0   \n",
       "2                               0  ...                                0   \n",
       "3                               1  ...                                0   \n",
       "4                               0  ...                                0   \n",
       "\n",
       "   StreamingTV_Yes  StreamingMovies_No internet service  StreamingMovies_Yes  \\\n",
       "0                0                                    0                    0   \n",
       "1                0                                    0                    0   \n",
       "2                0                                    0                    0   \n",
       "3                0                                    0                    0   \n",
       "4                0                                    0                    0   \n",
       "\n",
       "   Contract_One year  Contract_Two year  \\\n",
       "0                  0                  0   \n",
       "1                  1                  0   \n",
       "2                  0                  0   \n",
       "3                  1                  0   \n",
       "4                  0                  0   \n",
       "\n",
       "   PaymentMethod_Credit card (automatic)  PaymentMethod_Electronic check  \\\n",
       "0                                      0                               1   \n",
       "1                                      0                               0   \n",
       "2                                      0                               0   \n",
       "3                                      0                               0   \n",
       "4                                      0                               1   \n",
       "\n",
       "   PaymentMethod_Mailed check  Churn  \n",
       "0                           0     No  \n",
       "1                           1     No  \n",
       "2                           1    Yes  \n",
       "3                           0     No  \n",
       "4                           0    Yes  \n",
       "\n",
       "[5 rows x 31 columns]"
      ]
     },
     "execution_count": 122,
     "metadata": {},
     "output_type": "execute_result"
    }
   ],
   "source": [
    "df=pd.read_csv(\"3. telco.csv\")\n",
    "\n",
    "df.head()\n"
   ]
  },
  {
   "cell_type": "code",
   "execution_count": 121,
   "metadata": {},
   "outputs": [
    {
     "data": {
      "text/plain": [
       "(7032, 31)"
      ]
     },
     "execution_count": 121,
     "metadata": {},
     "output_type": "execute_result"
    }
   ],
   "source": [
    "df.shape"
   ]
  },
  {
   "cell_type": "code",
   "execution_count": 118,
   "metadata": {},
   "outputs": [
    {
     "name": "stdout",
     "output_type": "stream",
     "text": [
      "shape of X: (7032, 30)\n",
      "\n",
      "shape of y: (7032,)\n"
     ]
    }
   ],
   "source": [
    "\n",
    "#X will be de features (All the columns, but the churn)\n",
    "#y will be the label \n",
    "\n",
    "\n",
    "X = df.drop([\"Churn\"], axis=1)  #Axis=1 will mean the x values or columns \n",
    "y = df['Churn']\n",
    "\n",
    "X_train, X_test, y_train, y_test = train_test_split( X, y, stratify=y, random_state=0)\n",
    "\n",
    "print(\"shape of X:\", X.shape)\n",
    "print(\"\\nshape of y:\", y.shape)\n"
   ]
  },
  {
   "cell_type": "code",
   "execution_count": 112,
   "metadata": {},
   "outputs": [
    {
     "data": {
      "text/plain": [
       "(7032,)"
      ]
     },
     "execution_count": 112,
     "metadata": {},
     "output_type": "execute_result"
    }
   ],
   "source": [
    "y.shape"
   ]
  },
  {
   "cell_type": "markdown",
   "metadata": {},
   "source": [
    "## Question 8\n",
    "Produce a Logistic Regression  Classifier for the telco data. Report training and test results."
   ]
  },
  {
   "cell_type": "code",
   "execution_count": 125,
   "metadata": {},
   "outputs": [
    {
     "name": "stdout",
     "output_type": "stream",
     "text": [
      "Accuracy on the training subset: 0.802\n",
      "Accuracy on the test subset: 0.800\n"
     ]
    },
    {
     "name": "stderr",
     "output_type": "stream",
     "text": [
      "/opt/anaconda3/lib/python3.9/site-packages/sklearn/linear_model/_logistic.py:814: ConvergenceWarning: lbfgs failed to converge (status=1):\n",
      "STOP: TOTAL NO. of ITERATIONS REACHED LIMIT.\n",
      "\n",
      "Increase the number of iterations (max_iter) or scale the data as shown in:\n",
      "    https://scikit-learn.org/stable/modules/preprocessing.html\n",
      "Please also refer to the documentation for alternative solver options:\n",
      "    https://scikit-learn.org/stable/modules/linear_model.html#logistic-regression\n",
      "  n_iter_i = _check_optimize_result(\n"
     ]
    }
   ],
   "source": [
    "\n",
    "log_reg = LogisticRegression()  #here I am creating a classifier\n",
    "log_reg.fit(X_train, y_train) \n",
    "\n",
    "print('Accuracy on the training subset: {:.3f}'.format(log_reg.score(X_train, y_train)))\n",
    "print('Accuracy on the test subset: {:.3f}'.format(log_reg.score(X_test, y_test)))\n"
   ]
  },
  {
   "cell_type": "markdown",
   "metadata": {},
   "source": [
    "## Question 8\n",
    "Produce a Decision Tree Classifier for the telco data. Report training and test results."
   ]
  },
  {
   "cell_type": "code",
   "execution_count": 129,
   "metadata": {},
   "outputs": [
    {
     "name": "stdout",
     "output_type": "stream",
     "text": [
      "Accuracy on the training subset: 1.000\n",
      "Accuracy on the test subset: 0.747\n"
     ]
    }
   ],
   "source": [
    "\n",
    "DTc = DecisionTreeClassifier().fit(X_train, y_train)\n",
    "print('Accuracy on the training subset: {:.3f}'.format(DTc.score(X_train, y_train)))\n",
    "print('Accuracy on the test subset: {:.3f}'.format(DTc.score(X_test, y_test)))\n",
    "\n",
    "\n"
   ]
  },
  {
   "cell_type": "markdown",
   "metadata": {},
   "source": [
    "Now construct a decision tree with max_depth of 2, and fit the tree to the training data. Then use the code below to display the tree (note that the model below is called \"dtree\").\n"
   ]
  },
  {
   "cell_type": "code",
   "execution_count": 133,
   "metadata": {},
   "outputs": [
    {
     "name": "stdout",
     "output_type": "stream",
     "text": [
      "Accuracy on the training subset: 0.789\n",
      "Accuracy on the test subset: 0.792\n"
     ]
    }
   ],
   "source": [
    "DTcd = DecisionTreeClassifier(random_state=0,max_depth=2).fit(X_train,y_train)\n",
    "\n",
    "print('Accuracy on the training subset: {:.3f}'.format(DTcd.score(X_train, y_train)))\n",
    "print('Accuracy on the test subset: {:.3f}'.format(DTcd.score(X_test, y_test)))\n",
    "\n",
    "\n",
    "\n"
   ]
  },
  {
   "cell_type": "code",
   "execution_count": 140,
   "metadata": {},
   "outputs": [
    {
     "ename": "NameError",
     "evalue": "name 'tree' is not defined",
     "output_type": "error",
     "traceback": [
      "\u001b[0;31m---------------------------------------------------------------------------\u001b[0m",
      "\u001b[0;31mNameError\u001b[0m                                 Traceback (most recent call last)",
      "\u001b[1;32m/Users/pedrofontana/Desktop/CBS/CBS 2nd Semester/Business Data Analytics, Quantitative Methods and Visualization/programming part/DBA/LAB3_BDA_2023.ipynb Cell 30\u001b[0m in \u001b[0;36m<cell line: 5>\u001b[0;34m()\u001b[0m\n\u001b[1;32m      <a href='vscode-notebook-cell:/Users/pedrofontana/Desktop/CBS/CBS%202nd%20Semester/Business%20Data%20Analytics%2C%20Quantitative%20Methods%20and%20Visualization/programming%20part/DBA/LAB3_BDA_2023.ipynb#X33sZmlsZQ%3D%3D?line=1'>2</a>\u001b[0m \u001b[39mfrom\u001b[39;00m \u001b[39mmatplotlib\u001b[39;00m \u001b[39mimport\u001b[39;00m pyplot \u001b[39mas\u001b[39;00m plt\n\u001b[1;32m      <a href='vscode-notebook-cell:/Users/pedrofontana/Desktop/CBS/CBS%202nd%20Semester/Business%20Data%20Analytics%2C%20Quantitative%20Methods%20and%20Visualization/programming%20part/DBA/LAB3_BDA_2023.ipynb#X33sZmlsZQ%3D%3D?line=3'>4</a>\u001b[0m fig \u001b[39m=\u001b[39m plt\u001b[39m.\u001b[39mfigure(figsize\u001b[39m=\u001b[39m(\u001b[39m25\u001b[39m,\u001b[39m20\u001b[39m))\n\u001b[0;32m----> <a href='vscode-notebook-cell:/Users/pedrofontana/Desktop/CBS/CBS%202nd%20Semester/Business%20Data%20Analytics%2C%20Quantitative%20Methods%20and%20Visualization/programming%20part/DBA/LAB3_BDA_2023.ipynb#X33sZmlsZQ%3D%3D?line=4'>5</a>\u001b[0m plott \u001b[39m=\u001b[39m tree\u001b[39m.\u001b[39mplot_tree(DTcd, class_names\u001b[39m=\u001b[39m[\u001b[39m\"\u001b[39m\u001b[39mno churn\u001b[39m\u001b[39m\"\u001b[39m,\u001b[39m\"\u001b[39m\u001b[39mchurn\u001b[39m\u001b[39m\"\u001b[39m], feature_names \u001b[39m=\u001b[39m X\u001b[39m.\u001b[39mcolumns, filled\u001b[39m=\u001b[39m\u001b[39mTrue\u001b[39;00m)\n",
      "\u001b[0;31mNameError\u001b[0m: name 'tree' is not defined"
     ]
    },
    {
     "data": {
      "text/plain": [
       "<Figure size 1800x1440 with 0 Axes>"
      ]
     },
     "metadata": {},
     "output_type": "display_data"
    }
   ],
   "source": [
    "# Use this code to display tree\n",
    "from matplotlib import pyplot as plt\n",
    "\n",
    "fig = plt.figure(figsize=(25,20))\n",
    " _ = tree.plot_tree(DTcd, class_names=[\"no churn\",\"churn\"], feature_names = X.columns, filled=True)"
   ]
  },
  {
   "cell_type": "markdown",
   "metadata": {},
   "source": [
    "<h2>Question 10</h2>\n",
    "Construct a random forest classifier for this data. Report train and test accuracy."
   ]
  },
  {
   "cell_type": "code",
   "execution_count": null,
   "metadata": {},
   "outputs": [],
   "source": [
    "\n",
    "\n",
    "\n"
   ]
  },
  {
   "cell_type": "code",
   "execution_count": null,
   "metadata": {},
   "outputs": [],
   "source": []
  }
 ],
 "metadata": {
  "kernelspec": {
   "display_name": "Python 3",
   "language": "python",
   "name": "python3"
  },
  "language_info": {
   "codemirror_mode": {
    "name": "ipython",
    "version": 3
   },
   "file_extension": ".py",
   "mimetype": "text/x-python",
   "name": "python",
   "nbconvert_exporter": "python",
   "pygments_lexer": "ipython3",
   "version": "3.9.12"
  },
  "vscode": {
   "interpreter": {
    "hash": "40d3a090f54c6569ab1632332b64b2c03c39dcf918b08424e98f38b5ae0af88f"
   }
  }
 },
 "nbformat": 4,
 "nbformat_minor": 2
}
